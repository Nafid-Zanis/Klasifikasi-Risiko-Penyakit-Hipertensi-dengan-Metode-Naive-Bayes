{
  "nbformat": 4,
  "nbformat_minor": 0,
  "metadata": {
    "colab": {
      "provenance": [],
      "mount_file_id": "1dli8TB7whnxzcldsJvgYUFYaSs8_TGSs",
      "authorship_tag": "ABX9TyMz12AIre3ho2tw+bWpuf6e",
      "include_colab_link": true
    },
    "kernelspec": {
      "name": "python3",
      "display_name": "Python 3"
    },
    "language_info": {
      "name": "python"
    }
  },
  "cells": [
    {
      "cell_type": "markdown",
      "metadata": {
        "id": "view-in-github",
        "colab_type": "text"
      },
      "source": [
        "<a href=\"https://colab.research.google.com/github/Nafid-Zanis/Klasifikasi-Risiko-Penyakit-Hipertensi-dengan-Metode-Naive-Bayes/blob/main/Kode_Program.ipynb\" target=\"_parent\"><img src=\"https://colab.research.google.com/assets/colab-badge.svg\" alt=\"Open In Colab\"/></a>"
      ]
    },
    {
      "cell_type": "markdown",
      "source": [
        "**Mengimport Library yang dibutuhkan**"
      ],
      "metadata": {
        "id": "FaIGHhYPF2eU"
      }
    },
    {
      "cell_type": "code",
      "source": [
        "import pandas as pd\n",
        "import numpy as np\n",
        "import matplotlib.pyplot as plt\n",
        "import seaborn as sns\n",
        "from sklearn.model_selection import train_test_split\n",
        "from sklearn.preprocessing import StandardScaler\n",
        "from sklearn.metrics import accuracy_score\n",
        "from sklearn.naive_bayes import GaussianNB"
      ],
      "metadata": {
        "id": "uCsLZble_xHY"
      },
      "execution_count": null,
      "outputs": []
    },
    {
      "cell_type": "markdown",
      "source": [
        "**Membaca DataFrame**"
      ],
      "metadata": {
        "id": "CyPkTSu0F6OI"
      }
    },
    {
      "cell_type": "code",
      "source": [
        "import pandas as pd\n",
        "\n",
        "# Membaca file\n",
        "df =  pd.read_csv('/content/drive/MyDrive/Klasifikasi/modified_dataset.csv')\n",
        "df"
      ],
      "metadata": {
        "colab": {
          "base_uri": "https://localhost:8080/",
          "height": 423
        },
        "id": "3nkcYYXy9PDF",
        "outputId": "0b7f74d7-a85e-4ade-d123-b58c5f434494"
      },
      "execution_count": null,
      "outputs": [
        {
          "output_type": "execute_result",
          "data": {
            "text/plain": [
              "      male  age  currentSmoker  cigsPerDay  BPMeds  diabetes  totChol  sysBP  \\\n",
              "0        1   39              0         0.0     1.0         1    195.0  106.0   \n",
              "1        0   46              0         0.0     0.0         1    250.0  121.0   \n",
              "2        1   48              1        20.0     0.0         1    245.0  127.5   \n",
              "3        0   61              1        30.0     0.0         1    225.0  150.0   \n",
              "4        0   46              1        23.0     0.0         0    285.0  130.0   \n",
              "...    ...  ...            ...         ...     ...       ...      ...    ...   \n",
              "4235     0   48              1        20.0     NaN         0    248.0  131.0   \n",
              "4236     0   44              1        15.0     0.0         0    210.0  126.5   \n",
              "4237     0   52              0         0.0     0.0         1    269.0  133.5   \n",
              "4238     1   40              0         0.0     1.0         1    185.0  141.0   \n",
              "4239     0   39              1        30.0     1.0         0    196.0  133.0   \n",
              "\n",
              "      diaBP    BMI  heartRate  glucose  Risk  \n",
              "0      70.0  26.97       80.0     77.0     0  \n",
              "1      81.0  28.73       95.0     76.0     0  \n",
              "2      80.0  25.34       75.0     70.0     0  \n",
              "3      95.0  28.58       65.0    103.0     1  \n",
              "4      84.0  23.10       85.0     85.0     0  \n",
              "...     ...    ...        ...      ...   ...  \n",
              "4235   72.0  22.00       84.0     86.0     0  \n",
              "4236   87.0  19.16       86.0      NaN     0  \n",
              "4237   83.0  21.47       80.0    107.0     0  \n",
              "4238   98.0  25.60       67.0     72.0     1  \n",
              "4239   86.0  20.91       85.0     80.0     0  \n",
              "\n",
              "[4240 rows x 13 columns]"
            ],
            "text/html": [
              "\n",
              "  <div id=\"df-4546809f-cdca-4f2d-8870-ad105362cfe9\" class=\"colab-df-container\">\n",
              "    <div>\n",
              "<style scoped>\n",
              "    .dataframe tbody tr th:only-of-type {\n",
              "        vertical-align: middle;\n",
              "    }\n",
              "\n",
              "    .dataframe tbody tr th {\n",
              "        vertical-align: top;\n",
              "    }\n",
              "\n",
              "    .dataframe thead th {\n",
              "        text-align: right;\n",
              "    }\n",
              "</style>\n",
              "<table border=\"1\" class=\"dataframe\">\n",
              "  <thead>\n",
              "    <tr style=\"text-align: right;\">\n",
              "      <th></th>\n",
              "      <th>male</th>\n",
              "      <th>age</th>\n",
              "      <th>currentSmoker</th>\n",
              "      <th>cigsPerDay</th>\n",
              "      <th>BPMeds</th>\n",
              "      <th>diabetes</th>\n",
              "      <th>totChol</th>\n",
              "      <th>sysBP</th>\n",
              "      <th>diaBP</th>\n",
              "      <th>BMI</th>\n",
              "      <th>heartRate</th>\n",
              "      <th>glucose</th>\n",
              "      <th>Risk</th>\n",
              "    </tr>\n",
              "  </thead>\n",
              "  <tbody>\n",
              "    <tr>\n",
              "      <th>0</th>\n",
              "      <td>1</td>\n",
              "      <td>39</td>\n",
              "      <td>0</td>\n",
              "      <td>0.0</td>\n",
              "      <td>1.0</td>\n",
              "      <td>1</td>\n",
              "      <td>195.0</td>\n",
              "      <td>106.0</td>\n",
              "      <td>70.0</td>\n",
              "      <td>26.97</td>\n",
              "      <td>80.0</td>\n",
              "      <td>77.0</td>\n",
              "      <td>0</td>\n",
              "    </tr>\n",
              "    <tr>\n",
              "      <th>1</th>\n",
              "      <td>0</td>\n",
              "      <td>46</td>\n",
              "      <td>0</td>\n",
              "      <td>0.0</td>\n",
              "      <td>0.0</td>\n",
              "      <td>1</td>\n",
              "      <td>250.0</td>\n",
              "      <td>121.0</td>\n",
              "      <td>81.0</td>\n",
              "      <td>28.73</td>\n",
              "      <td>95.0</td>\n",
              "      <td>76.0</td>\n",
              "      <td>0</td>\n",
              "    </tr>\n",
              "    <tr>\n",
              "      <th>2</th>\n",
              "      <td>1</td>\n",
              "      <td>48</td>\n",
              "      <td>1</td>\n",
              "      <td>20.0</td>\n",
              "      <td>0.0</td>\n",
              "      <td>1</td>\n",
              "      <td>245.0</td>\n",
              "      <td>127.5</td>\n",
              "      <td>80.0</td>\n",
              "      <td>25.34</td>\n",
              "      <td>75.0</td>\n",
              "      <td>70.0</td>\n",
              "      <td>0</td>\n",
              "    </tr>\n",
              "    <tr>\n",
              "      <th>3</th>\n",
              "      <td>0</td>\n",
              "      <td>61</td>\n",
              "      <td>1</td>\n",
              "      <td>30.0</td>\n",
              "      <td>0.0</td>\n",
              "      <td>1</td>\n",
              "      <td>225.0</td>\n",
              "      <td>150.0</td>\n",
              "      <td>95.0</td>\n",
              "      <td>28.58</td>\n",
              "      <td>65.0</td>\n",
              "      <td>103.0</td>\n",
              "      <td>1</td>\n",
              "    </tr>\n",
              "    <tr>\n",
              "      <th>4</th>\n",
              "      <td>0</td>\n",
              "      <td>46</td>\n",
              "      <td>1</td>\n",
              "      <td>23.0</td>\n",
              "      <td>0.0</td>\n",
              "      <td>0</td>\n",
              "      <td>285.0</td>\n",
              "      <td>130.0</td>\n",
              "      <td>84.0</td>\n",
              "      <td>23.10</td>\n",
              "      <td>85.0</td>\n",
              "      <td>85.0</td>\n",
              "      <td>0</td>\n",
              "    </tr>\n",
              "    <tr>\n",
              "      <th>...</th>\n",
              "      <td>...</td>\n",
              "      <td>...</td>\n",
              "      <td>...</td>\n",
              "      <td>...</td>\n",
              "      <td>...</td>\n",
              "      <td>...</td>\n",
              "      <td>...</td>\n",
              "      <td>...</td>\n",
              "      <td>...</td>\n",
              "      <td>...</td>\n",
              "      <td>...</td>\n",
              "      <td>...</td>\n",
              "      <td>...</td>\n",
              "    </tr>\n",
              "    <tr>\n",
              "      <th>4235</th>\n",
              "      <td>0</td>\n",
              "      <td>48</td>\n",
              "      <td>1</td>\n",
              "      <td>20.0</td>\n",
              "      <td>NaN</td>\n",
              "      <td>0</td>\n",
              "      <td>248.0</td>\n",
              "      <td>131.0</td>\n",
              "      <td>72.0</td>\n",
              "      <td>22.00</td>\n",
              "      <td>84.0</td>\n",
              "      <td>86.0</td>\n",
              "      <td>0</td>\n",
              "    </tr>\n",
              "    <tr>\n",
              "      <th>4236</th>\n",
              "      <td>0</td>\n",
              "      <td>44</td>\n",
              "      <td>1</td>\n",
              "      <td>15.0</td>\n",
              "      <td>0.0</td>\n",
              "      <td>0</td>\n",
              "      <td>210.0</td>\n",
              "      <td>126.5</td>\n",
              "      <td>87.0</td>\n",
              "      <td>19.16</td>\n",
              "      <td>86.0</td>\n",
              "      <td>NaN</td>\n",
              "      <td>0</td>\n",
              "    </tr>\n",
              "    <tr>\n",
              "      <th>4237</th>\n",
              "      <td>0</td>\n",
              "      <td>52</td>\n",
              "      <td>0</td>\n",
              "      <td>0.0</td>\n",
              "      <td>0.0</td>\n",
              "      <td>1</td>\n",
              "      <td>269.0</td>\n",
              "      <td>133.5</td>\n",
              "      <td>83.0</td>\n",
              "      <td>21.47</td>\n",
              "      <td>80.0</td>\n",
              "      <td>107.0</td>\n",
              "      <td>0</td>\n",
              "    </tr>\n",
              "    <tr>\n",
              "      <th>4238</th>\n",
              "      <td>1</td>\n",
              "      <td>40</td>\n",
              "      <td>0</td>\n",
              "      <td>0.0</td>\n",
              "      <td>1.0</td>\n",
              "      <td>1</td>\n",
              "      <td>185.0</td>\n",
              "      <td>141.0</td>\n",
              "      <td>98.0</td>\n",
              "      <td>25.60</td>\n",
              "      <td>67.0</td>\n",
              "      <td>72.0</td>\n",
              "      <td>1</td>\n",
              "    </tr>\n",
              "    <tr>\n",
              "      <th>4239</th>\n",
              "      <td>0</td>\n",
              "      <td>39</td>\n",
              "      <td>1</td>\n",
              "      <td>30.0</td>\n",
              "      <td>1.0</td>\n",
              "      <td>0</td>\n",
              "      <td>196.0</td>\n",
              "      <td>133.0</td>\n",
              "      <td>86.0</td>\n",
              "      <td>20.91</td>\n",
              "      <td>85.0</td>\n",
              "      <td>80.0</td>\n",
              "      <td>0</td>\n",
              "    </tr>\n",
              "  </tbody>\n",
              "</table>\n",
              "<p>4240 rows × 13 columns</p>\n",
              "</div>\n",
              "    <div class=\"colab-df-buttons\">\n",
              "\n",
              "  <div class=\"colab-df-container\">\n",
              "    <button class=\"colab-df-convert\" onclick=\"convertToInteractive('df-4546809f-cdca-4f2d-8870-ad105362cfe9')\"\n",
              "            title=\"Convert this dataframe to an interactive table.\"\n",
              "            style=\"display:none;\">\n",
              "\n",
              "  <svg xmlns=\"http://www.w3.org/2000/svg\" height=\"24px\" viewBox=\"0 -960 960 960\">\n",
              "    <path d=\"M120-120v-720h720v720H120Zm60-500h600v-160H180v160Zm220 220h160v-160H400v160Zm0 220h160v-160H400v160ZM180-400h160v-160H180v160Zm440 0h160v-160H620v160ZM180-180h160v-160H180v160Zm440 0h160v-160H620v160Z\"/>\n",
              "  </svg>\n",
              "    </button>\n",
              "\n",
              "  <style>\n",
              "    .colab-df-container {\n",
              "      display:flex;\n",
              "      gap: 12px;\n",
              "    }\n",
              "\n",
              "    .colab-df-convert {\n",
              "      background-color: #E8F0FE;\n",
              "      border: none;\n",
              "      border-radius: 50%;\n",
              "      cursor: pointer;\n",
              "      display: none;\n",
              "      fill: #1967D2;\n",
              "      height: 32px;\n",
              "      padding: 0 0 0 0;\n",
              "      width: 32px;\n",
              "    }\n",
              "\n",
              "    .colab-df-convert:hover {\n",
              "      background-color: #E2EBFA;\n",
              "      box-shadow: 0px 1px 2px rgba(60, 64, 67, 0.3), 0px 1px 3px 1px rgba(60, 64, 67, 0.15);\n",
              "      fill: #174EA6;\n",
              "    }\n",
              "\n",
              "    .colab-df-buttons div {\n",
              "      margin-bottom: 4px;\n",
              "    }\n",
              "\n",
              "    [theme=dark] .colab-df-convert {\n",
              "      background-color: #3B4455;\n",
              "      fill: #D2E3FC;\n",
              "    }\n",
              "\n",
              "    [theme=dark] .colab-df-convert:hover {\n",
              "      background-color: #434B5C;\n",
              "      box-shadow: 0px 1px 3px 1px rgba(0, 0, 0, 0.15);\n",
              "      filter: drop-shadow(0px 1px 2px rgba(0, 0, 0, 0.3));\n",
              "      fill: #FFFFFF;\n",
              "    }\n",
              "  </style>\n",
              "\n",
              "    <script>\n",
              "      const buttonEl =\n",
              "        document.querySelector('#df-4546809f-cdca-4f2d-8870-ad105362cfe9 button.colab-df-convert');\n",
              "      buttonEl.style.display =\n",
              "        google.colab.kernel.accessAllowed ? 'block' : 'none';\n",
              "\n",
              "      async function convertToInteractive(key) {\n",
              "        const element = document.querySelector('#df-4546809f-cdca-4f2d-8870-ad105362cfe9');\n",
              "        const dataTable =\n",
              "          await google.colab.kernel.invokeFunction('convertToInteractive',\n",
              "                                                    [key], {});\n",
              "        if (!dataTable) return;\n",
              "\n",
              "        const docLinkHtml = 'Like what you see? Visit the ' +\n",
              "          '<a target=\"_blank\" href=https://colab.research.google.com/notebooks/data_table.ipynb>data table notebook</a>'\n",
              "          + ' to learn more about interactive tables.';\n",
              "        element.innerHTML = '';\n",
              "        dataTable['output_type'] = 'display_data';\n",
              "        await google.colab.output.renderOutput(dataTable, element);\n",
              "        const docLink = document.createElement('div');\n",
              "        docLink.innerHTML = docLinkHtml;\n",
              "        element.appendChild(docLink);\n",
              "      }\n",
              "    </script>\n",
              "  </div>\n",
              "\n",
              "\n",
              "    <div id=\"df-8b30520e-73a1-43a8-be66-86563fc017df\">\n",
              "      <button class=\"colab-df-quickchart\" onclick=\"quickchart('df-8b30520e-73a1-43a8-be66-86563fc017df')\"\n",
              "                title=\"Suggest charts\"\n",
              "                style=\"display:none;\">\n",
              "\n",
              "<svg xmlns=\"http://www.w3.org/2000/svg\" height=\"24px\"viewBox=\"0 0 24 24\"\n",
              "     width=\"24px\">\n",
              "    <g>\n",
              "        <path d=\"M19 3H5c-1.1 0-2 .9-2 2v14c0 1.1.9 2 2 2h14c1.1 0 2-.9 2-2V5c0-1.1-.9-2-2-2zM9 17H7v-7h2v7zm4 0h-2V7h2v10zm4 0h-2v-4h2v4z\"/>\n",
              "    </g>\n",
              "</svg>\n",
              "      </button>\n",
              "\n",
              "<style>\n",
              "  .colab-df-quickchart {\n",
              "      --bg-color: #E8F0FE;\n",
              "      --fill-color: #1967D2;\n",
              "      --hover-bg-color: #E2EBFA;\n",
              "      --hover-fill-color: #174EA6;\n",
              "      --disabled-fill-color: #AAA;\n",
              "      --disabled-bg-color: #DDD;\n",
              "  }\n",
              "\n",
              "  [theme=dark] .colab-df-quickchart {\n",
              "      --bg-color: #3B4455;\n",
              "      --fill-color: #D2E3FC;\n",
              "      --hover-bg-color: #434B5C;\n",
              "      --hover-fill-color: #FFFFFF;\n",
              "      --disabled-bg-color: #3B4455;\n",
              "      --disabled-fill-color: #666;\n",
              "  }\n",
              "\n",
              "  .colab-df-quickchart {\n",
              "    background-color: var(--bg-color);\n",
              "    border: none;\n",
              "    border-radius: 50%;\n",
              "    cursor: pointer;\n",
              "    display: none;\n",
              "    fill: var(--fill-color);\n",
              "    height: 32px;\n",
              "    padding: 0;\n",
              "    width: 32px;\n",
              "  }\n",
              "\n",
              "  .colab-df-quickchart:hover {\n",
              "    background-color: var(--hover-bg-color);\n",
              "    box-shadow: 0 1px 2px rgba(60, 64, 67, 0.3), 0 1px 3px 1px rgba(60, 64, 67, 0.15);\n",
              "    fill: var(--button-hover-fill-color);\n",
              "  }\n",
              "\n",
              "  .colab-df-quickchart-complete:disabled,\n",
              "  .colab-df-quickchart-complete:disabled:hover {\n",
              "    background-color: var(--disabled-bg-color);\n",
              "    fill: var(--disabled-fill-color);\n",
              "    box-shadow: none;\n",
              "  }\n",
              "\n",
              "  .colab-df-spinner {\n",
              "    border: 2px solid var(--fill-color);\n",
              "    border-color: transparent;\n",
              "    border-bottom-color: var(--fill-color);\n",
              "    animation:\n",
              "      spin 1s steps(1) infinite;\n",
              "  }\n",
              "\n",
              "  @keyframes spin {\n",
              "    0% {\n",
              "      border-color: transparent;\n",
              "      border-bottom-color: var(--fill-color);\n",
              "      border-left-color: var(--fill-color);\n",
              "    }\n",
              "    20% {\n",
              "      border-color: transparent;\n",
              "      border-left-color: var(--fill-color);\n",
              "      border-top-color: var(--fill-color);\n",
              "    }\n",
              "    30% {\n",
              "      border-color: transparent;\n",
              "      border-left-color: var(--fill-color);\n",
              "      border-top-color: var(--fill-color);\n",
              "      border-right-color: var(--fill-color);\n",
              "    }\n",
              "    40% {\n",
              "      border-color: transparent;\n",
              "      border-right-color: var(--fill-color);\n",
              "      border-top-color: var(--fill-color);\n",
              "    }\n",
              "    60% {\n",
              "      border-color: transparent;\n",
              "      border-right-color: var(--fill-color);\n",
              "    }\n",
              "    80% {\n",
              "      border-color: transparent;\n",
              "      border-right-color: var(--fill-color);\n",
              "      border-bottom-color: var(--fill-color);\n",
              "    }\n",
              "    90% {\n",
              "      border-color: transparent;\n",
              "      border-bottom-color: var(--fill-color);\n",
              "    }\n",
              "  }\n",
              "</style>\n",
              "\n",
              "      <script>\n",
              "        async function quickchart(key) {\n",
              "          const quickchartButtonEl =\n",
              "            document.querySelector('#' + key + ' button');\n",
              "          quickchartButtonEl.disabled = true;  // To prevent multiple clicks.\n",
              "          quickchartButtonEl.classList.add('colab-df-spinner');\n",
              "          try {\n",
              "            const charts = await google.colab.kernel.invokeFunction(\n",
              "                'suggestCharts', [key], {});\n",
              "          } catch (error) {\n",
              "            console.error('Error during call to suggestCharts:', error);\n",
              "          }\n",
              "          quickchartButtonEl.classList.remove('colab-df-spinner');\n",
              "          quickchartButtonEl.classList.add('colab-df-quickchart-complete');\n",
              "        }\n",
              "        (() => {\n",
              "          let quickchartButtonEl =\n",
              "            document.querySelector('#df-8b30520e-73a1-43a8-be66-86563fc017df button');\n",
              "          quickchartButtonEl.style.display =\n",
              "            google.colab.kernel.accessAllowed ? 'block' : 'none';\n",
              "        })();\n",
              "      </script>\n",
              "    </div>\n",
              "\n",
              "  <div id=\"id_6ead5294-8667-4229-b0e2-8a64364e8d57\">\n",
              "    <style>\n",
              "      .colab-df-generate {\n",
              "        background-color: #E8F0FE;\n",
              "        border: none;\n",
              "        border-radius: 50%;\n",
              "        cursor: pointer;\n",
              "        display: none;\n",
              "        fill: #1967D2;\n",
              "        height: 32px;\n",
              "        padding: 0 0 0 0;\n",
              "        width: 32px;\n",
              "      }\n",
              "\n",
              "      .colab-df-generate:hover {\n",
              "        background-color: #E2EBFA;\n",
              "        box-shadow: 0px 1px 2px rgba(60, 64, 67, 0.3), 0px 1px 3px 1px rgba(60, 64, 67, 0.15);\n",
              "        fill: #174EA6;\n",
              "      }\n",
              "\n",
              "      [theme=dark] .colab-df-generate {\n",
              "        background-color: #3B4455;\n",
              "        fill: #D2E3FC;\n",
              "      }\n",
              "\n",
              "      [theme=dark] .colab-df-generate:hover {\n",
              "        background-color: #434B5C;\n",
              "        box-shadow: 0px 1px 3px 1px rgba(0, 0, 0, 0.15);\n",
              "        filter: drop-shadow(0px 1px 2px rgba(0, 0, 0, 0.3));\n",
              "        fill: #FFFFFF;\n",
              "      }\n",
              "    </style>\n",
              "    <button class=\"colab-df-generate\" onclick=\"generateWithVariable('df')\"\n",
              "            title=\"Generate code using this dataframe.\"\n",
              "            style=\"display:none;\">\n",
              "\n",
              "  <svg xmlns=\"http://www.w3.org/2000/svg\" height=\"24px\"viewBox=\"0 0 24 24\"\n",
              "       width=\"24px\">\n",
              "    <path d=\"M7,19H8.4L18.45,9,17,7.55,7,17.6ZM5,21V16.75L18.45,3.32a2,2,0,0,1,2.83,0l1.4,1.43a1.91,1.91,0,0,1,.58,1.4,1.91,1.91,0,0,1-.58,1.4L9.25,21ZM18.45,9,17,7.55Zm-12,3A5.31,5.31,0,0,0,4.9,8.1,5.31,5.31,0,0,0,1,6.5,5.31,5.31,0,0,0,4.9,4.9,5.31,5.31,0,0,0,6.5,1,5.31,5.31,0,0,0,8.1,4.9,5.31,5.31,0,0,0,12,6.5,5.46,5.46,0,0,0,6.5,12Z\"/>\n",
              "  </svg>\n",
              "    </button>\n",
              "    <script>\n",
              "      (() => {\n",
              "      const buttonEl =\n",
              "        document.querySelector('#id_6ead5294-8667-4229-b0e2-8a64364e8d57 button.colab-df-generate');\n",
              "      buttonEl.style.display =\n",
              "        google.colab.kernel.accessAllowed ? 'block' : 'none';\n",
              "\n",
              "      buttonEl.onclick = () => {\n",
              "        google.colab.notebook.generateWithVariable('df');\n",
              "      }\n",
              "      })();\n",
              "    </script>\n",
              "  </div>\n",
              "\n",
              "    </div>\n",
              "  </div>\n"
            ],
            "application/vnd.google.colaboratory.intrinsic+json": {
              "type": "dataframe",
              "variable_name": "df",
              "summary": "{\n  \"name\": \"df\",\n  \"rows\": 4240,\n  \"fields\": [\n    {\n      \"column\": \"male\",\n      \"properties\": {\n        \"dtype\": \"number\",\n        \"std\": 0,\n        \"min\": 0,\n        \"max\": 1,\n        \"num_unique_values\": 2,\n        \"samples\": [\n          0,\n          1\n        ],\n        \"semantic_type\": \"\",\n        \"description\": \"\"\n      }\n    },\n    {\n      \"column\": \"age\",\n      \"properties\": {\n        \"dtype\": \"number\",\n        \"std\": 8,\n        \"min\": 32,\n        \"max\": 70,\n        \"num_unique_values\": 39,\n        \"samples\": [\n          34,\n          70\n        ],\n        \"semantic_type\": \"\",\n        \"description\": \"\"\n      }\n    },\n    {\n      \"column\": \"currentSmoker\",\n      \"properties\": {\n        \"dtype\": \"number\",\n        \"std\": 0,\n        \"min\": 0,\n        \"max\": 1,\n        \"num_unique_values\": 2,\n        \"samples\": [\n          1,\n          0\n        ],\n        \"semantic_type\": \"\",\n        \"description\": \"\"\n      }\n    },\n    {\n      \"column\": \"cigsPerDay\",\n      \"properties\": {\n        \"dtype\": \"number\",\n        \"std\": 11.922461800608747,\n        \"min\": 0.0,\n        \"max\": 70.0,\n        \"num_unique_values\": 33,\n        \"samples\": [\n          19.0,\n          4.0\n        ],\n        \"semantic_type\": \"\",\n        \"description\": \"\"\n      }\n    },\n    {\n      \"column\": \"BPMeds\",\n      \"properties\": {\n        \"dtype\": \"number\",\n        \"std\": 0.49987757235180613,\n        \"min\": 0.0,\n        \"max\": 1.0,\n        \"num_unique_values\": 2,\n        \"samples\": [\n          0.0,\n          1.0\n        ],\n        \"semantic_type\": \"\",\n        \"description\": \"\"\n      }\n    },\n    {\n      \"column\": \"diabetes\",\n      \"properties\": {\n        \"dtype\": \"number\",\n        \"std\": 0,\n        \"min\": 0,\n        \"max\": 1,\n        \"num_unique_values\": 2,\n        \"samples\": [\n          0,\n          1\n        ],\n        \"semantic_type\": \"\",\n        \"description\": \"\"\n      }\n    },\n    {\n      \"column\": \"totChol\",\n      \"properties\": {\n        \"dtype\": \"number\",\n        \"std\": 44.59128386860702,\n        \"min\": 107.0,\n        \"max\": 696.0,\n        \"num_unique_values\": 248,\n        \"samples\": [\n          311.0,\n          205.0\n        ],\n        \"semantic_type\": \"\",\n        \"description\": \"\"\n      }\n    },\n    {\n      \"column\": \"sysBP\",\n      \"properties\": {\n        \"dtype\": \"number\",\n        \"std\": 22.0332996088492,\n        \"min\": 83.5,\n        \"max\": 295.0,\n        \"num_unique_values\": 234,\n        \"samples\": [\n          109.0,\n          184.5\n        ],\n        \"semantic_type\": \"\",\n        \"description\": \"\"\n      }\n    },\n    {\n      \"column\": \"diaBP\",\n      \"properties\": {\n        \"dtype\": \"number\",\n        \"std\": 11.910394483305936,\n        \"min\": 48.0,\n        \"max\": 142.5,\n        \"num_unique_values\": 146,\n        \"samples\": [\n          106.0,\n          108.5\n        ],\n        \"semantic_type\": \"\",\n        \"description\": \"\"\n      }\n    },\n    {\n      \"column\": \"BMI\",\n      \"properties\": {\n        \"dtype\": \"number\",\n        \"std\": 4.079840168944382,\n        \"min\": 15.54,\n        \"max\": 56.8,\n        \"num_unique_values\": 1364,\n        \"samples\": [\n          24.56,\n          19.87\n        ],\n        \"semantic_type\": \"\",\n        \"description\": \"\"\n      }\n    },\n    {\n      \"column\": \"heartRate\",\n      \"properties\": {\n        \"dtype\": \"number\",\n        \"std\": 12.025347984469342,\n        \"min\": 44.0,\n        \"max\": 143.0,\n        \"num_unique_values\": 73,\n        \"samples\": [\n          85.0,\n          47.0\n        ],\n        \"semantic_type\": \"\",\n        \"description\": \"\"\n      }\n    },\n    {\n      \"column\": \"glucose\",\n      \"properties\": {\n        \"dtype\": \"number\",\n        \"std\": 23.95433481134474,\n        \"min\": 40.0,\n        \"max\": 394.0,\n        \"num_unique_values\": 143,\n        \"samples\": [\n          394.0,\n          74.0\n        ],\n        \"semantic_type\": \"\",\n        \"description\": \"\"\n      }\n    },\n    {\n      \"column\": \"Risk\",\n      \"properties\": {\n        \"dtype\": \"number\",\n        \"std\": 0,\n        \"min\": 0,\n        \"max\": 1,\n        \"num_unique_values\": 2,\n        \"samples\": [\n          1,\n          0\n        ],\n        \"semantic_type\": \"\",\n        \"description\": \"\"\n      }\n    }\n  ]\n}"
            }
          },
          "metadata": {},
          "execution_count": 2
        }
      ]
    },
    {
      "cell_type": "code",
      "source": [
        "# Membaca data dari file CSV (ganti dengan path dataset Anda)\n",
        "df = pd.read_csv('/content/drive/MyDrive/Klasifikasi/modified_dataset.csv')\n",
        "\n",
        "# Ambil 10 data teratas\n",
        "top_10 = df.head(10)\n",
        "\n",
        "# Ambil 10 data terbawah\n",
        "bottom_10 = df.tail(10)\n",
        "\n",
        "# Gabungkan keduanya\n",
        "combined_df = pd.concat([top_10, bottom_10])\n",
        "\n",
        "# Tampilkan hasil\n",
        "print(combined_df)"
      ],
      "metadata": {
        "colab": {
          "base_uri": "https://localhost:8080/"
        },
        "id": "L3h0wOeCoswM",
        "outputId": "31b01d39-5af7-4906-c683-5288f791713d"
      },
      "execution_count": null,
      "outputs": [
        {
          "output_type": "stream",
          "name": "stdout",
          "text": [
            "      male  age  currentSmoker  cigsPerDay  BPMeds  diabetes  totChol  sysBP  \\\n",
            "0        1   39              0         0.0     1.0         1    195.0  106.0   \n",
            "1        0   46              0         0.0     0.0         1    250.0  121.0   \n",
            "2        1   48              1        20.0     0.0         1    245.0  127.5   \n",
            "3        0   61              1        30.0     0.0         1    225.0  150.0   \n",
            "4        0   46              1        23.0     0.0         0    285.0  130.0   \n",
            "5        0   43              0         0.0     1.0         1    228.0  180.0   \n",
            "6        0   63              0         0.0     0.0         0    205.0  138.0   \n",
            "7        0   45              1        20.0     1.0         1    313.0  100.0   \n",
            "8        1   52              0         0.0     0.0         1    260.0  141.5   \n",
            "9        1   43              1        30.0     0.0         0    225.0  162.0   \n",
            "4230     0   56              1         3.0     1.0         1    268.0  170.0   \n",
            "4231     1   58              0         0.0     0.0         0    187.0  141.0   \n",
            "4232     1   68              0         0.0     0.0         0    176.0  168.0   \n",
            "4233     1   50              1         1.0     0.0         0    313.0  179.0   \n",
            "4234     1   51              1        43.0     0.0         0    207.0  126.5   \n",
            "4235     0   48              1        20.0     NaN         0    248.0  131.0   \n",
            "4236     0   44              1        15.0     0.0         0    210.0  126.5   \n",
            "4237     0   52              0         0.0     0.0         1    269.0  133.5   \n",
            "4238     1   40              0         0.0     1.0         1    185.0  141.0   \n",
            "4239     0   39              1        30.0     1.0         0    196.0  133.0   \n",
            "\n",
            "      diaBP    BMI  heartRate  glucose  Risk  \n",
            "0      70.0  26.97       80.0     77.0     0  \n",
            "1      81.0  28.73       95.0     76.0     0  \n",
            "2      80.0  25.34       75.0     70.0     0  \n",
            "3      95.0  28.58       65.0    103.0     1  \n",
            "4      84.0  23.10       85.0     85.0     0  \n",
            "5     110.0  30.30       77.0     99.0     1  \n",
            "6      71.0  33.11       60.0     85.0     0  \n",
            "7      71.0  21.68       79.0     78.0     0  \n",
            "8      89.0  26.36       76.0     79.0     1  \n",
            "9     107.0  23.61       93.0     88.0     1  \n",
            "4230  102.0  22.89       57.0      NaN     1  \n",
            "4231   81.0  24.96       80.0     81.0     1  \n",
            "4232   97.0  23.14       60.0     79.0     1  \n",
            "4233   92.0  25.97       66.0     86.0     1  \n",
            "4234   80.0  19.71       65.0     68.0     0  \n",
            "4235   72.0  22.00       84.0     86.0     0  \n",
            "4236   87.0  19.16       86.0      NaN     0  \n",
            "4237   83.0  21.47       80.0    107.0     0  \n",
            "4238   98.0  25.60       67.0     72.0     1  \n",
            "4239   86.0  20.91       85.0     80.0     0  \n"
          ]
        }
      ]
    },
    {
      "cell_type": "markdown",
      "source": [
        "**Melihat Jumlah Data dan Kolom**"
      ],
      "metadata": {
        "id": "XJ3uGMzrF-Ed"
      }
    },
    {
      "cell_type": "code",
      "source": [
        "df.shape"
      ],
      "metadata": {
        "colab": {
          "base_uri": "https://localhost:8080/"
        },
        "id": "2oPhMyF59n-r",
        "outputId": "01c29518-da9a-4d08-96ce-dd993997dd58"
      },
      "execution_count": null,
      "outputs": [
        {
          "output_type": "execute_result",
          "data": {
            "text/plain": [
              "(4240, 13)"
            ]
          },
          "metadata": {},
          "execution_count": 3
        }
      ]
    },
    {
      "cell_type": "markdown",
      "source": [
        "**Mengecek tipe data dari tiap kolom**"
      ],
      "metadata": {
        "id": "ZDqd72wOGCja"
      }
    },
    {
      "cell_type": "code",
      "source": [
        "df.info()"
      ],
      "metadata": {
        "colab": {
          "base_uri": "https://localhost:8080/"
        },
        "id": "rTBS0Xrz_-JK",
        "outputId": "edb3e46b-6328-4940-efb0-75b7e6e26dca"
      },
      "execution_count": null,
      "outputs": [
        {
          "output_type": "stream",
          "name": "stdout",
          "text": [
            "<class 'pandas.core.frame.DataFrame'>\n",
            "RangeIndex: 4240 entries, 0 to 4239\n",
            "Data columns (total 13 columns):\n",
            " #   Column         Non-Null Count  Dtype  \n",
            "---  ------         --------------  -----  \n",
            " 0   male           4240 non-null   int64  \n",
            " 1   age            4240 non-null   int64  \n",
            " 2   currentSmoker  4240 non-null   int64  \n",
            " 3   cigsPerDay     4211 non-null   float64\n",
            " 4   BPMeds         4187 non-null   float64\n",
            " 5   diabetes       4240 non-null   int64  \n",
            " 6   totChol        4190 non-null   float64\n",
            " 7   sysBP          4240 non-null   float64\n",
            " 8   diaBP          4240 non-null   float64\n",
            " 9   BMI            4221 non-null   float64\n",
            " 10  heartRate      4239 non-null   float64\n",
            " 11  glucose        3852 non-null   float64\n",
            " 12  Risk           4240 non-null   int64  \n",
            "dtypes: float64(8), int64(5)\n",
            "memory usage: 430.8 KB\n"
          ]
        }
      ]
    },
    {
      "cell_type": "markdown",
      "source": [
        "**Ringkasan dari atribut dataset**"
      ],
      "metadata": {
        "id": "t1nBYKS0GHzE"
      }
    },
    {
      "cell_type": "code",
      "source": [
        "df.describe()"
      ],
      "metadata": {
        "colab": {
          "base_uri": "https://localhost:8080/",
          "height": 320
        },
        "id": "wMnMVWxdBsd8",
        "outputId": "b5cba090-4380-4b2b-ab8c-4e9d7327f343"
      },
      "execution_count": null,
      "outputs": [
        {
          "output_type": "execute_result",
          "data": {
            "text/plain": [
              "              male          age  currentSmoker   cigsPerDay       BPMeds  \\\n",
              "count  4240.000000  4240.000000    4240.000000  4211.000000  4187.000000   \n",
              "mean      0.429245    49.580189       0.494104     9.005937     0.486506   \n",
              "std       0.495027     8.572942       0.500024    11.922462     0.499878   \n",
              "min       0.000000    32.000000       0.000000     0.000000     0.000000   \n",
              "25%       0.000000    42.000000       0.000000     0.000000     0.000000   \n",
              "50%       0.000000    49.000000       0.000000     0.000000     0.000000   \n",
              "75%       1.000000    56.000000       1.000000    20.000000     1.000000   \n",
              "max       1.000000    70.000000       1.000000    70.000000     1.000000   \n",
              "\n",
              "          diabetes      totChol        sysBP        diaBP          BMI  \\\n",
              "count  4240.000000  4190.000000  4240.000000  4240.000000  4221.000000   \n",
              "mean      0.511557   236.699523   132.354599    82.897759    25.800801   \n",
              "std       0.499925    44.591284    22.033300    11.910394     4.079840   \n",
              "min       0.000000   107.000000    83.500000    48.000000    15.540000   \n",
              "25%       0.000000   206.000000   117.000000    75.000000    23.070000   \n",
              "50%       1.000000   234.000000   128.000000    82.000000    25.400000   \n",
              "75%       1.000000   263.000000   144.000000    90.000000    28.040000   \n",
              "max       1.000000   696.000000   295.000000   142.500000    56.800000   \n",
              "\n",
              "         heartRate      glucose         Risk  \n",
              "count  4239.000000  3852.000000  4240.000000  \n",
              "mean     75.878981    81.963655     0.310613  \n",
              "std      12.025348    23.954335     0.462799  \n",
              "min      44.000000    40.000000     0.000000  \n",
              "25%      68.000000    71.000000     0.000000  \n",
              "50%      75.000000    78.000000     0.000000  \n",
              "75%      83.000000    87.000000     1.000000  \n",
              "max     143.000000   394.000000     1.000000  "
            ],
            "text/html": [
              "\n",
              "  <div id=\"df-0b523b51-2582-4e41-b061-89488a97c859\" class=\"colab-df-container\">\n",
              "    <div>\n",
              "<style scoped>\n",
              "    .dataframe tbody tr th:only-of-type {\n",
              "        vertical-align: middle;\n",
              "    }\n",
              "\n",
              "    .dataframe tbody tr th {\n",
              "        vertical-align: top;\n",
              "    }\n",
              "\n",
              "    .dataframe thead th {\n",
              "        text-align: right;\n",
              "    }\n",
              "</style>\n",
              "<table border=\"1\" class=\"dataframe\">\n",
              "  <thead>\n",
              "    <tr style=\"text-align: right;\">\n",
              "      <th></th>\n",
              "      <th>male</th>\n",
              "      <th>age</th>\n",
              "      <th>currentSmoker</th>\n",
              "      <th>cigsPerDay</th>\n",
              "      <th>BPMeds</th>\n",
              "      <th>diabetes</th>\n",
              "      <th>totChol</th>\n",
              "      <th>sysBP</th>\n",
              "      <th>diaBP</th>\n",
              "      <th>BMI</th>\n",
              "      <th>heartRate</th>\n",
              "      <th>glucose</th>\n",
              "      <th>Risk</th>\n",
              "    </tr>\n",
              "  </thead>\n",
              "  <tbody>\n",
              "    <tr>\n",
              "      <th>count</th>\n",
              "      <td>4240.000000</td>\n",
              "      <td>4240.000000</td>\n",
              "      <td>4240.000000</td>\n",
              "      <td>4211.000000</td>\n",
              "      <td>4187.000000</td>\n",
              "      <td>4240.000000</td>\n",
              "      <td>4190.000000</td>\n",
              "      <td>4240.000000</td>\n",
              "      <td>4240.000000</td>\n",
              "      <td>4221.000000</td>\n",
              "      <td>4239.000000</td>\n",
              "      <td>3852.000000</td>\n",
              "      <td>4240.000000</td>\n",
              "    </tr>\n",
              "    <tr>\n",
              "      <th>mean</th>\n",
              "      <td>0.429245</td>\n",
              "      <td>49.580189</td>\n",
              "      <td>0.494104</td>\n",
              "      <td>9.005937</td>\n",
              "      <td>0.486506</td>\n",
              "      <td>0.511557</td>\n",
              "      <td>236.699523</td>\n",
              "      <td>132.354599</td>\n",
              "      <td>82.897759</td>\n",
              "      <td>25.800801</td>\n",
              "      <td>75.878981</td>\n",
              "      <td>81.963655</td>\n",
              "      <td>0.310613</td>\n",
              "    </tr>\n",
              "    <tr>\n",
              "      <th>std</th>\n",
              "      <td>0.495027</td>\n",
              "      <td>8.572942</td>\n",
              "      <td>0.500024</td>\n",
              "      <td>11.922462</td>\n",
              "      <td>0.499878</td>\n",
              "      <td>0.499925</td>\n",
              "      <td>44.591284</td>\n",
              "      <td>22.033300</td>\n",
              "      <td>11.910394</td>\n",
              "      <td>4.079840</td>\n",
              "      <td>12.025348</td>\n",
              "      <td>23.954335</td>\n",
              "      <td>0.462799</td>\n",
              "    </tr>\n",
              "    <tr>\n",
              "      <th>min</th>\n",
              "      <td>0.000000</td>\n",
              "      <td>32.000000</td>\n",
              "      <td>0.000000</td>\n",
              "      <td>0.000000</td>\n",
              "      <td>0.000000</td>\n",
              "      <td>0.000000</td>\n",
              "      <td>107.000000</td>\n",
              "      <td>83.500000</td>\n",
              "      <td>48.000000</td>\n",
              "      <td>15.540000</td>\n",
              "      <td>44.000000</td>\n",
              "      <td>40.000000</td>\n",
              "      <td>0.000000</td>\n",
              "    </tr>\n",
              "    <tr>\n",
              "      <th>25%</th>\n",
              "      <td>0.000000</td>\n",
              "      <td>42.000000</td>\n",
              "      <td>0.000000</td>\n",
              "      <td>0.000000</td>\n",
              "      <td>0.000000</td>\n",
              "      <td>0.000000</td>\n",
              "      <td>206.000000</td>\n",
              "      <td>117.000000</td>\n",
              "      <td>75.000000</td>\n",
              "      <td>23.070000</td>\n",
              "      <td>68.000000</td>\n",
              "      <td>71.000000</td>\n",
              "      <td>0.000000</td>\n",
              "    </tr>\n",
              "    <tr>\n",
              "      <th>50%</th>\n",
              "      <td>0.000000</td>\n",
              "      <td>49.000000</td>\n",
              "      <td>0.000000</td>\n",
              "      <td>0.000000</td>\n",
              "      <td>0.000000</td>\n",
              "      <td>1.000000</td>\n",
              "      <td>234.000000</td>\n",
              "      <td>128.000000</td>\n",
              "      <td>82.000000</td>\n",
              "      <td>25.400000</td>\n",
              "      <td>75.000000</td>\n",
              "      <td>78.000000</td>\n",
              "      <td>0.000000</td>\n",
              "    </tr>\n",
              "    <tr>\n",
              "      <th>75%</th>\n",
              "      <td>1.000000</td>\n",
              "      <td>56.000000</td>\n",
              "      <td>1.000000</td>\n",
              "      <td>20.000000</td>\n",
              "      <td>1.000000</td>\n",
              "      <td>1.000000</td>\n",
              "      <td>263.000000</td>\n",
              "      <td>144.000000</td>\n",
              "      <td>90.000000</td>\n",
              "      <td>28.040000</td>\n",
              "      <td>83.000000</td>\n",
              "      <td>87.000000</td>\n",
              "      <td>1.000000</td>\n",
              "    </tr>\n",
              "    <tr>\n",
              "      <th>max</th>\n",
              "      <td>1.000000</td>\n",
              "      <td>70.000000</td>\n",
              "      <td>1.000000</td>\n",
              "      <td>70.000000</td>\n",
              "      <td>1.000000</td>\n",
              "      <td>1.000000</td>\n",
              "      <td>696.000000</td>\n",
              "      <td>295.000000</td>\n",
              "      <td>142.500000</td>\n",
              "      <td>56.800000</td>\n",
              "      <td>143.000000</td>\n",
              "      <td>394.000000</td>\n",
              "      <td>1.000000</td>\n",
              "    </tr>\n",
              "  </tbody>\n",
              "</table>\n",
              "</div>\n",
              "    <div class=\"colab-df-buttons\">\n",
              "\n",
              "  <div class=\"colab-df-container\">\n",
              "    <button class=\"colab-df-convert\" onclick=\"convertToInteractive('df-0b523b51-2582-4e41-b061-89488a97c859')\"\n",
              "            title=\"Convert this dataframe to an interactive table.\"\n",
              "            style=\"display:none;\">\n",
              "\n",
              "  <svg xmlns=\"http://www.w3.org/2000/svg\" height=\"24px\" viewBox=\"0 -960 960 960\">\n",
              "    <path d=\"M120-120v-720h720v720H120Zm60-500h600v-160H180v160Zm220 220h160v-160H400v160Zm0 220h160v-160H400v160ZM180-400h160v-160H180v160Zm440 0h160v-160H620v160ZM180-180h160v-160H180v160Zm440 0h160v-160H620v160Z\"/>\n",
              "  </svg>\n",
              "    </button>\n",
              "\n",
              "  <style>\n",
              "    .colab-df-container {\n",
              "      display:flex;\n",
              "      gap: 12px;\n",
              "    }\n",
              "\n",
              "    .colab-df-convert {\n",
              "      background-color: #E8F0FE;\n",
              "      border: none;\n",
              "      border-radius: 50%;\n",
              "      cursor: pointer;\n",
              "      display: none;\n",
              "      fill: #1967D2;\n",
              "      height: 32px;\n",
              "      padding: 0 0 0 0;\n",
              "      width: 32px;\n",
              "    }\n",
              "\n",
              "    .colab-df-convert:hover {\n",
              "      background-color: #E2EBFA;\n",
              "      box-shadow: 0px 1px 2px rgba(60, 64, 67, 0.3), 0px 1px 3px 1px rgba(60, 64, 67, 0.15);\n",
              "      fill: #174EA6;\n",
              "    }\n",
              "\n",
              "    .colab-df-buttons div {\n",
              "      margin-bottom: 4px;\n",
              "    }\n",
              "\n",
              "    [theme=dark] .colab-df-convert {\n",
              "      background-color: #3B4455;\n",
              "      fill: #D2E3FC;\n",
              "    }\n",
              "\n",
              "    [theme=dark] .colab-df-convert:hover {\n",
              "      background-color: #434B5C;\n",
              "      box-shadow: 0px 1px 3px 1px rgba(0, 0, 0, 0.15);\n",
              "      filter: drop-shadow(0px 1px 2px rgba(0, 0, 0, 0.3));\n",
              "      fill: #FFFFFF;\n",
              "    }\n",
              "  </style>\n",
              "\n",
              "    <script>\n",
              "      const buttonEl =\n",
              "        document.querySelector('#df-0b523b51-2582-4e41-b061-89488a97c859 button.colab-df-convert');\n",
              "      buttonEl.style.display =\n",
              "        google.colab.kernel.accessAllowed ? 'block' : 'none';\n",
              "\n",
              "      async function convertToInteractive(key) {\n",
              "        const element = document.querySelector('#df-0b523b51-2582-4e41-b061-89488a97c859');\n",
              "        const dataTable =\n",
              "          await google.colab.kernel.invokeFunction('convertToInteractive',\n",
              "                                                    [key], {});\n",
              "        if (!dataTable) return;\n",
              "\n",
              "        const docLinkHtml = 'Like what you see? Visit the ' +\n",
              "          '<a target=\"_blank\" href=https://colab.research.google.com/notebooks/data_table.ipynb>data table notebook</a>'\n",
              "          + ' to learn more about interactive tables.';\n",
              "        element.innerHTML = '';\n",
              "        dataTable['output_type'] = 'display_data';\n",
              "        await google.colab.output.renderOutput(dataTable, element);\n",
              "        const docLink = document.createElement('div');\n",
              "        docLink.innerHTML = docLinkHtml;\n",
              "        element.appendChild(docLink);\n",
              "      }\n",
              "    </script>\n",
              "  </div>\n",
              "\n",
              "\n",
              "    <div id=\"df-3cd33870-666a-4d17-b938-bcc89c397efe\">\n",
              "      <button class=\"colab-df-quickchart\" onclick=\"quickchart('df-3cd33870-666a-4d17-b938-bcc89c397efe')\"\n",
              "                title=\"Suggest charts\"\n",
              "                style=\"display:none;\">\n",
              "\n",
              "<svg xmlns=\"http://www.w3.org/2000/svg\" height=\"24px\"viewBox=\"0 0 24 24\"\n",
              "     width=\"24px\">\n",
              "    <g>\n",
              "        <path d=\"M19 3H5c-1.1 0-2 .9-2 2v14c0 1.1.9 2 2 2h14c1.1 0 2-.9 2-2V5c0-1.1-.9-2-2-2zM9 17H7v-7h2v7zm4 0h-2V7h2v10zm4 0h-2v-4h2v4z\"/>\n",
              "    </g>\n",
              "</svg>\n",
              "      </button>\n",
              "\n",
              "<style>\n",
              "  .colab-df-quickchart {\n",
              "      --bg-color: #E8F0FE;\n",
              "      --fill-color: #1967D2;\n",
              "      --hover-bg-color: #E2EBFA;\n",
              "      --hover-fill-color: #174EA6;\n",
              "      --disabled-fill-color: #AAA;\n",
              "      --disabled-bg-color: #DDD;\n",
              "  }\n",
              "\n",
              "  [theme=dark] .colab-df-quickchart {\n",
              "      --bg-color: #3B4455;\n",
              "      --fill-color: #D2E3FC;\n",
              "      --hover-bg-color: #434B5C;\n",
              "      --hover-fill-color: #FFFFFF;\n",
              "      --disabled-bg-color: #3B4455;\n",
              "      --disabled-fill-color: #666;\n",
              "  }\n",
              "\n",
              "  .colab-df-quickchart {\n",
              "    background-color: var(--bg-color);\n",
              "    border: none;\n",
              "    border-radius: 50%;\n",
              "    cursor: pointer;\n",
              "    display: none;\n",
              "    fill: var(--fill-color);\n",
              "    height: 32px;\n",
              "    padding: 0;\n",
              "    width: 32px;\n",
              "  }\n",
              "\n",
              "  .colab-df-quickchart:hover {\n",
              "    background-color: var(--hover-bg-color);\n",
              "    box-shadow: 0 1px 2px rgba(60, 64, 67, 0.3), 0 1px 3px 1px rgba(60, 64, 67, 0.15);\n",
              "    fill: var(--button-hover-fill-color);\n",
              "  }\n",
              "\n",
              "  .colab-df-quickchart-complete:disabled,\n",
              "  .colab-df-quickchart-complete:disabled:hover {\n",
              "    background-color: var(--disabled-bg-color);\n",
              "    fill: var(--disabled-fill-color);\n",
              "    box-shadow: none;\n",
              "  }\n",
              "\n",
              "  .colab-df-spinner {\n",
              "    border: 2px solid var(--fill-color);\n",
              "    border-color: transparent;\n",
              "    border-bottom-color: var(--fill-color);\n",
              "    animation:\n",
              "      spin 1s steps(1) infinite;\n",
              "  }\n",
              "\n",
              "  @keyframes spin {\n",
              "    0% {\n",
              "      border-color: transparent;\n",
              "      border-bottom-color: var(--fill-color);\n",
              "      border-left-color: var(--fill-color);\n",
              "    }\n",
              "    20% {\n",
              "      border-color: transparent;\n",
              "      border-left-color: var(--fill-color);\n",
              "      border-top-color: var(--fill-color);\n",
              "    }\n",
              "    30% {\n",
              "      border-color: transparent;\n",
              "      border-left-color: var(--fill-color);\n",
              "      border-top-color: var(--fill-color);\n",
              "      border-right-color: var(--fill-color);\n",
              "    }\n",
              "    40% {\n",
              "      border-color: transparent;\n",
              "      border-right-color: var(--fill-color);\n",
              "      border-top-color: var(--fill-color);\n",
              "    }\n",
              "    60% {\n",
              "      border-color: transparent;\n",
              "      border-right-color: var(--fill-color);\n",
              "    }\n",
              "    80% {\n",
              "      border-color: transparent;\n",
              "      border-right-color: var(--fill-color);\n",
              "      border-bottom-color: var(--fill-color);\n",
              "    }\n",
              "    90% {\n",
              "      border-color: transparent;\n",
              "      border-bottom-color: var(--fill-color);\n",
              "    }\n",
              "  }\n",
              "</style>\n",
              "\n",
              "      <script>\n",
              "        async function quickchart(key) {\n",
              "          const quickchartButtonEl =\n",
              "            document.querySelector('#' + key + ' button');\n",
              "          quickchartButtonEl.disabled = true;  // To prevent multiple clicks.\n",
              "          quickchartButtonEl.classList.add('colab-df-spinner');\n",
              "          try {\n",
              "            const charts = await google.colab.kernel.invokeFunction(\n",
              "                'suggestCharts', [key], {});\n",
              "          } catch (error) {\n",
              "            console.error('Error during call to suggestCharts:', error);\n",
              "          }\n",
              "          quickchartButtonEl.classList.remove('colab-df-spinner');\n",
              "          quickchartButtonEl.classList.add('colab-df-quickchart-complete');\n",
              "        }\n",
              "        (() => {\n",
              "          let quickchartButtonEl =\n",
              "            document.querySelector('#df-3cd33870-666a-4d17-b938-bcc89c397efe button');\n",
              "          quickchartButtonEl.style.display =\n",
              "            google.colab.kernel.accessAllowed ? 'block' : 'none';\n",
              "        })();\n",
              "      </script>\n",
              "    </div>\n",
              "\n",
              "    </div>\n",
              "  </div>\n"
            ],
            "application/vnd.google.colaboratory.intrinsic+json": {
              "type": "dataframe",
              "summary": "{\n  \"name\": \"df\",\n  \"rows\": 8,\n  \"fields\": [\n    {\n      \"column\": \"male\",\n      \"properties\": {\n        \"dtype\": \"number\",\n        \"std\": 1498.9187356195594,\n        \"min\": 0.0,\n        \"max\": 4240.0,\n        \"num_unique_values\": 5,\n        \"samples\": [\n          0.42924528301886794,\n          1.0,\n          0.4950268328135126\n        ],\n        \"semantic_type\": \"\",\n        \"description\": \"\"\n      }\n    },\n    {\n      \"column\": \"age\",\n      \"properties\": {\n        \"dtype\": \"number\",\n        \"std\": 1483.6625285814434,\n        \"min\": 8.57294217547335,\n        \"max\": 4240.0,\n        \"num_unique_values\": 8,\n        \"samples\": [\n          49.58018867924528,\n          49.0,\n          4240.0\n        ],\n        \"semantic_type\": \"\",\n        \"description\": \"\"\n      }\n    },\n    {\n      \"column\": \"currentSmoker\",\n      \"properties\": {\n        \"dtype\": \"number\",\n        \"std\": 1498.9152076422486,\n        \"min\": 0.0,\n        \"max\": 4240.0,\n        \"num_unique_values\": 5,\n        \"samples\": [\n          0.49410377358490565,\n          1.0,\n          0.5000242019006013\n        ],\n        \"semantic_type\": \"\",\n        \"description\": \"\"\n      }\n    },\n    {\n      \"column\": \"cigsPerDay\",\n      \"properties\": {\n        \"dtype\": \"number\",\n        \"std\": 1483.391919922047,\n        \"min\": 0.0,\n        \"max\": 4211.0,\n        \"num_unique_values\": 6,\n        \"samples\": [\n          4211.0,\n          9.005936832106388,\n          70.0\n        ],\n        \"semantic_type\": \"\",\n        \"description\": \"\"\n      }\n    },\n    {\n      \"column\": \"BPMeds\",\n      \"properties\": {\n        \"dtype\": \"number\",\n        \"std\": 1480.177269784454,\n        \"min\": 0.0,\n        \"max\": 4187.0,\n        \"num_unique_values\": 5,\n        \"samples\": [\n          0.4865058514449487,\n          1.0,\n          0.49987757235180613\n        ],\n        \"semantic_type\": \"\",\n        \"description\": \"\"\n      }\n    },\n    {\n      \"column\": \"diabetes\",\n      \"properties\": {\n        \"dtype\": \"number\",\n        \"std\": 1498.8638234728728,\n        \"min\": 0.0,\n        \"max\": 4240.0,\n        \"num_unique_values\": 5,\n        \"samples\": [\n          0.5115566037735849,\n          1.0,\n          0.49992538400902614\n        ],\n        \"semantic_type\": \"\",\n        \"description\": \"\"\n      }\n    },\n    {\n      \"column\": \"totChol\",\n      \"properties\": {\n        \"dtype\": \"number\",\n        \"std\": 1404.601640190698,\n        \"min\": 44.59128386860702,\n        \"max\": 4190.0,\n        \"num_unique_values\": 8,\n        \"samples\": [\n          236.69952267303103,\n          234.0,\n          4190.0\n        ],\n        \"semantic_type\": \"\",\n        \"description\": \"\"\n      }\n    },\n    {\n      \"column\": \"sysBP\",\n      \"properties\": {\n        \"dtype\": \"number\",\n        \"std\": 1454.5383961628752,\n        \"min\": 22.0332996088492,\n        \"max\": 4240.0,\n        \"num_unique_values\": 8,\n        \"samples\": [\n          132.35459905660377,\n          128.0,\n          4240.0\n        ],\n        \"semantic_type\": \"\",\n        \"description\": \"\"\n      }\n    },\n    {\n      \"column\": \"diaBP\",\n      \"properties\": {\n        \"dtype\": \"number\",\n        \"std\": 1472.6461851531444,\n        \"min\": 11.910394483305936,\n        \"max\": 4240.0,\n        \"num_unique_values\": 8,\n        \"samples\": [\n          82.89775943396226,\n          82.0,\n          4240.0\n        ],\n        \"semantic_type\": \"\",\n        \"description\": \"\"\n      }\n    },\n    {\n      \"column\": \"BMI\",\n      \"properties\": {\n        \"dtype\": \"number\",\n        \"std\": 1483.396246572926,\n        \"min\": 4.079840168944382,\n        \"max\": 4221.0,\n        \"num_unique_values\": 8,\n        \"samples\": [\n          25.80080075811419,\n          25.4,\n          4221.0\n        ],\n        \"semantic_type\": \"\",\n        \"description\": \"\"\n      }\n    },\n    {\n      \"column\": \"heartRate\",\n      \"properties\": {\n        \"dtype\": \"number\",\n        \"std\": 1473.8777618374554,\n        \"min\": 12.025347984469342,\n        \"max\": 4239.0,\n        \"num_unique_values\": 8,\n        \"samples\": [\n          75.87898089171975,\n          75.0,\n          4239.0\n        ],\n        \"semantic_type\": \"\",\n        \"description\": \"\"\n      }\n    },\n    {\n      \"column\": \"glucose\",\n      \"properties\": {\n        \"dtype\": \"number\",\n        \"std\": 1327.9158071204477,\n        \"min\": 23.95433481134474,\n        \"max\": 3852.0,\n        \"num_unique_values\": 8,\n        \"samples\": [\n          81.96365524402907,\n          78.0,\n          3852.0\n        ],\n        \"semantic_type\": \"\",\n        \"description\": \"\"\n      }\n    },\n    {\n      \"column\": \"Risk\",\n      \"properties\": {\n        \"dtype\": \"number\",\n        \"std\": 1498.926355379932,\n        \"min\": 0.0,\n        \"max\": 4240.0,\n        \"num_unique_values\": 5,\n        \"samples\": [\n          0.3106132075471698,\n          1.0,\n          0.4627992628992739\n        ],\n        \"semantic_type\": \"\",\n        \"description\": \"\"\n      }\n    }\n  ]\n}"
            }
          },
          "metadata": {},
          "execution_count": 5
        }
      ]
    },
    {
      "cell_type": "markdown",
      "source": [
        "**Mengecek nilai null**"
      ],
      "metadata": {
        "id": "X9x_XMjcAreO"
      }
    },
    {
      "cell_type": "code",
      "source": [
        "df.isnull().sum()"
      ],
      "metadata": {
        "colab": {
          "base_uri": "https://localhost:8080/",
          "height": 491
        },
        "id": "Uh-98s589vZu",
        "outputId": "dad38547-a8f8-4fbc-cfa6-3afa64924f94"
      },
      "execution_count": null,
      "outputs": [
        {
          "output_type": "execute_result",
          "data": {
            "text/plain": [
              "male               0\n",
              "age                0\n",
              "currentSmoker      0\n",
              "cigsPerDay        29\n",
              "BPMeds            53\n",
              "diabetes           0\n",
              "totChol           50\n",
              "sysBP              0\n",
              "diaBP              0\n",
              "BMI               19\n",
              "heartRate          1\n",
              "glucose          388\n",
              "Risk               0\n",
              "dtype: int64"
            ],
            "text/html": [
              "<div>\n",
              "<style scoped>\n",
              "    .dataframe tbody tr th:only-of-type {\n",
              "        vertical-align: middle;\n",
              "    }\n",
              "\n",
              "    .dataframe tbody tr th {\n",
              "        vertical-align: top;\n",
              "    }\n",
              "\n",
              "    .dataframe thead th {\n",
              "        text-align: right;\n",
              "    }\n",
              "</style>\n",
              "<table border=\"1\" class=\"dataframe\">\n",
              "  <thead>\n",
              "    <tr style=\"text-align: right;\">\n",
              "      <th></th>\n",
              "      <th>0</th>\n",
              "    </tr>\n",
              "  </thead>\n",
              "  <tbody>\n",
              "    <tr>\n",
              "      <th>male</th>\n",
              "      <td>0</td>\n",
              "    </tr>\n",
              "    <tr>\n",
              "      <th>age</th>\n",
              "      <td>0</td>\n",
              "    </tr>\n",
              "    <tr>\n",
              "      <th>currentSmoker</th>\n",
              "      <td>0</td>\n",
              "    </tr>\n",
              "    <tr>\n",
              "      <th>cigsPerDay</th>\n",
              "      <td>29</td>\n",
              "    </tr>\n",
              "    <tr>\n",
              "      <th>BPMeds</th>\n",
              "      <td>53</td>\n",
              "    </tr>\n",
              "    <tr>\n",
              "      <th>diabetes</th>\n",
              "      <td>0</td>\n",
              "    </tr>\n",
              "    <tr>\n",
              "      <th>totChol</th>\n",
              "      <td>50</td>\n",
              "    </tr>\n",
              "    <tr>\n",
              "      <th>sysBP</th>\n",
              "      <td>0</td>\n",
              "    </tr>\n",
              "    <tr>\n",
              "      <th>diaBP</th>\n",
              "      <td>0</td>\n",
              "    </tr>\n",
              "    <tr>\n",
              "      <th>BMI</th>\n",
              "      <td>19</td>\n",
              "    </tr>\n",
              "    <tr>\n",
              "      <th>heartRate</th>\n",
              "      <td>1</td>\n",
              "    </tr>\n",
              "    <tr>\n",
              "      <th>glucose</th>\n",
              "      <td>388</td>\n",
              "    </tr>\n",
              "    <tr>\n",
              "      <th>Risk</th>\n",
              "      <td>0</td>\n",
              "    </tr>\n",
              "  </tbody>\n",
              "</table>\n",
              "</div><br><label><b>dtype:</b> int64</label>"
            ]
          },
          "metadata": {},
          "execution_count": 4
        }
      ]
    },
    {
      "cell_type": "markdown",
      "source": [
        "**Mengisi missing value dengan nilai Mean dan Modus**"
      ],
      "metadata": {
        "id": "w88yiwcOAtqZ"
      }
    },
    {
      "cell_type": "code",
      "source": [
        "df[\"cigsPerDay\"]=df[\"cigsPerDay\"].fillna(df[\"cigsPerDay\"].mean())\n",
        "\n",
        "df[\"totChol\"]=df[\"totChol\"].fillna(df[\"totChol\"].mean())\n",
        "df[\"BMI\"]=df[\"BMI\"].fillna(df[\"BMI\"].mean())\n",
        "df[\"heartRate\"]=df[\"heartRate\"].fillna(df[\"heartRate\"].mean())\n",
        "df[\"glucose\"]=df[\"glucose\"].fillna(df[\"glucose\"].mean())\n",
        "df['BPMeds'].fillna(df['BPMeds'].mode()[0], inplace=True)\n",
        "\n",
        "df.isna().sum()"
      ],
      "metadata": {
        "id": "vhnKMX1m9wq7",
        "colab": {
          "base_uri": "https://localhost:8080/",
          "height": 633
        },
        "outputId": "9f4a15bf-a14d-40de-ce1f-a33b01eb55b8"
      },
      "execution_count": null,
      "outputs": [
        {
          "output_type": "stream",
          "name": "stderr",
          "text": [
            "<ipython-input-5-2ed3ffa1e418>:7: FutureWarning: A value is trying to be set on a copy of a DataFrame or Series through chained assignment using an inplace method.\n",
            "The behavior will change in pandas 3.0. This inplace method will never work because the intermediate object on which we are setting values always behaves as a copy.\n",
            "\n",
            "For example, when doing 'df[col].method(value, inplace=True)', try using 'df.method({col: value}, inplace=True)' or df[col] = df[col].method(value) instead, to perform the operation inplace on the original object.\n",
            "\n",
            "\n",
            "  df['BPMeds'].fillna(df['BPMeds'].mode()[0], inplace=True)\n"
          ]
        },
        {
          "output_type": "execute_result",
          "data": {
            "text/plain": [
              "male             0\n",
              "age              0\n",
              "currentSmoker    0\n",
              "cigsPerDay       0\n",
              "BPMeds           0\n",
              "diabetes         0\n",
              "totChol          0\n",
              "sysBP            0\n",
              "diaBP            0\n",
              "BMI              0\n",
              "heartRate        0\n",
              "glucose          0\n",
              "Risk             0\n",
              "dtype: int64"
            ],
            "text/html": [
              "<div>\n",
              "<style scoped>\n",
              "    .dataframe tbody tr th:only-of-type {\n",
              "        vertical-align: middle;\n",
              "    }\n",
              "\n",
              "    .dataframe tbody tr th {\n",
              "        vertical-align: top;\n",
              "    }\n",
              "\n",
              "    .dataframe thead th {\n",
              "        text-align: right;\n",
              "    }\n",
              "</style>\n",
              "<table border=\"1\" class=\"dataframe\">\n",
              "  <thead>\n",
              "    <tr style=\"text-align: right;\">\n",
              "      <th></th>\n",
              "      <th>0</th>\n",
              "    </tr>\n",
              "  </thead>\n",
              "  <tbody>\n",
              "    <tr>\n",
              "      <th>male</th>\n",
              "      <td>0</td>\n",
              "    </tr>\n",
              "    <tr>\n",
              "      <th>age</th>\n",
              "      <td>0</td>\n",
              "    </tr>\n",
              "    <tr>\n",
              "      <th>currentSmoker</th>\n",
              "      <td>0</td>\n",
              "    </tr>\n",
              "    <tr>\n",
              "      <th>cigsPerDay</th>\n",
              "      <td>0</td>\n",
              "    </tr>\n",
              "    <tr>\n",
              "      <th>BPMeds</th>\n",
              "      <td>0</td>\n",
              "    </tr>\n",
              "    <tr>\n",
              "      <th>diabetes</th>\n",
              "      <td>0</td>\n",
              "    </tr>\n",
              "    <tr>\n",
              "      <th>totChol</th>\n",
              "      <td>0</td>\n",
              "    </tr>\n",
              "    <tr>\n",
              "      <th>sysBP</th>\n",
              "      <td>0</td>\n",
              "    </tr>\n",
              "    <tr>\n",
              "      <th>diaBP</th>\n",
              "      <td>0</td>\n",
              "    </tr>\n",
              "    <tr>\n",
              "      <th>BMI</th>\n",
              "      <td>0</td>\n",
              "    </tr>\n",
              "    <tr>\n",
              "      <th>heartRate</th>\n",
              "      <td>0</td>\n",
              "    </tr>\n",
              "    <tr>\n",
              "      <th>glucose</th>\n",
              "      <td>0</td>\n",
              "    </tr>\n",
              "    <tr>\n",
              "      <th>Risk</th>\n",
              "      <td>0</td>\n",
              "    </tr>\n",
              "  </tbody>\n",
              "</table>\n",
              "</div><br><label><b>dtype:</b> int64</label>"
            ]
          },
          "metadata": {},
          "execution_count": 5
        }
      ]
    },
    {
      "cell_type": "code",
      "source": [
        "# checking for duplicate values\n",
        "df.duplicated().sum()"
      ],
      "metadata": {
        "colab": {
          "base_uri": "https://localhost:8080/"
        },
        "id": "rQ6nIVr290-e",
        "outputId": "b0365cdc-c3ea-4a33-9b5a-67d421a7a07f"
      },
      "execution_count": null,
      "outputs": [
        {
          "output_type": "execute_result",
          "data": {
            "text/plain": [
              "np.int64(0)"
            ]
          },
          "metadata": {},
          "execution_count": 8
        }
      ]
    },
    {
      "cell_type": "markdown",
      "source": [
        "**Meliahat Matriks Korelasi**"
      ],
      "metadata": {
        "id": "01I1yJjtGXWY"
      }
    },
    {
      "cell_type": "code",
      "source": [
        "# checking for redundant features with high correlation\n",
        "import seaborn as sns\n",
        "import matplotlib.pyplot as plt\n",
        "\n",
        "\n",
        "corr_matrix = df.corr()\n",
        "\n",
        "# plotting the heatmap\n",
        "plt.figure(figsize=(10, 5))\n",
        "sns.heatmap(corr_matrix, annot=True, cmap='flare', fmt='.2f')\n",
        "plt.title('Covariance Matrix Heatmap')\n",
        "plt.show()"
      ],
      "metadata": {
        "colab": {
          "base_uri": "https://localhost:8080/",
          "height": 556
        },
        "id": "4-5CVLO496HJ",
        "outputId": "6426761a-40c8-4e19-d97f-d3098a2618e4"
      },
      "execution_count": null,
      "outputs": [
        {
          "output_type": "display_data",
          "data": {
            "text/plain": [
              "<Figure size 1000x500 with 2 Axes>"
            ],
            "image/png": "[encoded data removed]"
          },
          "metadata": {}
        }
      ]
    },
    {
      "cell_type": "markdown",
      "source": [
        "**Exploratory Data Analyst**"
      ],
      "metadata": {
        "id": "NbztgZIXGbCP"
      }
    },
    {
      "cell_type": "code",
      "source": [
        "plt.figure(figsize=(6,4))\n",
        "sns.countplot(x=\"male\", hue=\"Risk\", data=df, palette=\"coolwarm\")\n",
        "plt.title(\"Distribusi Hipertensi Berdasarkan Jenis Kelamin\")\n",
        "plt.xlabel(\"Jenis Kelamin (0 = Perempuan, 1 = Laki-Laki)\")\n",
        "plt.ylabel(\"Count\")\n",
        "plt.legend(title=\"Hypertension Risk\", labels=[\"Resiko Rendah\", \"Resiko Tinggi\"])\n",
        "plt.show()"
      ],
      "metadata": {
        "colab": {
          "base_uri": "https://localhost:8080/",
          "height": 410
        },
        "id": "8IYA8l99CAdd",
        "outputId": "6102da86-8011-43c3-c112-f30c04738889"
      },
      "execution_count": null,
      "outputs": [
        {
          "output_type": "display_data",
          "data": {
            "text/plain": [
              "<Figure size 600x400 with 1 Axes>"
            ],
            "image/png": "[encoded data removed]"
          },
          "metadata": {}
        }
      ]
    },
    {
      "cell_type": "code",
      "source": [
        "target_counts = df[\"Risk\"].value_counts()\n",
        "plt.figure(figsize=(8, 8))\n",
        "plt.pie(target_counts, labels=[\"Resiko Rendah\", \"Resiko Tinggi\"], autopct='%1.1f%%', startangle=140, colors=[\"skyblue\", \"salmon\"])\n",
        "plt.title(\"Distribusi Hipertensi\")\n",
        "plt.show()"
      ],
      "metadata": {
        "colab": {
          "base_uri": "https://localhost:8080/",
          "height": 675
        },
        "id": "095SeVmHCDjz",
        "outputId": "f96b1e74-02a3-4b47-aaef-0ce01faee36c"
      },
      "execution_count": null,
      "outputs": [
        {
          "output_type": "display_data",
          "data": {
            "text/plain": [
              "<Figure size 800x800 with 1 Axes>"
            ],
            "image/png": "[encoded data removed]"
          },
          "metadata": {}
        }
      ]
    },
    {
      "cell_type": "code",
      "source": [
        "plt.figure(figsize=(10,5))\n",
        "sns.histplot(data=df, x=\"age\", hue=\"Risk\", multiple=\"stack\", bins=30, palette=\"coolwarm\", kde=True)\n",
        "plt.title(\"Distribusi Hipertensi Berdasarkan Usia\")\n",
        "plt.xlabel(\"Usia\")\n",
        "plt.ylabel(\"Jumlah\")\n",
        "plt.show()"
      ],
      "metadata": {
        "colab": {
          "base_uri": "https://localhost:8080/",
          "height": 487
        },
        "id": "y5Kcf7YHCGLS",
        "outputId": "fe56786a-dda6-4eb0-b42e-d4a757096817"
      },
      "execution_count": null,
      "outputs": [
        {
          "output_type": "display_data",
          "data": {
            "text/plain": [
              "<Figure size 1000x500 with 1 Axes>"
            ],
            "image/png": "[encoded data removed]"
          },
          "metadata": {}
        }
      ]
    },
    {
      "cell_type": "code",
      "source": [
        "plt.figure(figsize=(6,4))\n",
        "sns.countplot(x=\"currentSmoker\", hue=\"Risk\", data=df, palette=\"coolwarm\")\n",
        "plt.title(\"Distribusi Hipertensi Berdasarkan Status Merokok\")\n",
        "plt.xlabel(\"Status Merokok (0 = Risiko Rendah, 1 = Risiko Tinggi)\")\n",
        "plt.ylabel(\"Jumlah\")\n",
        "plt.legend(title=\"Risiko Hipertensi\", labels=[\"Risiko Rendah\", \"Risiko Tinggi\"])\n",
        "plt.show()"
      ],
      "metadata": {
        "colab": {
          "base_uri": "https://localhost:8080/",
          "height": 410
        },
        "id": "BLdhi3_mCJFM",
        "outputId": "07e520c0-2d5b-4056-d45e-12653fd1b870"
      },
      "execution_count": null,
      "outputs": [
        {
          "output_type": "display_data",
          "data": {
            "text/plain": [
              "<Figure size 600x400 with 1 Axes>"
            ],
            "image/png": "[encoded data removed]"
          },
          "metadata": {}
        }
      ]
    },
    {
      "cell_type": "code",
      "source": [
        "import seaborn as sns\n",
        "import matplotlib.pyplot as plt\n",
        "\n",
        "sns.countplot(x=\"BPMeds\", hue=\"Risk\", data=df, palette=\"coolwarm\")\n",
        "plt.title('Distribusi Kolom BPmeds')\n",
        "plt.xlabel('BPmeds')\n",
        "plt.ylabel('Jumlah')\n",
        "plt.show()"
      ],
      "metadata": {
        "colab": {
          "base_uri": "https://localhost:8080/",
          "height": 472
        },
        "id": "0pM38NEZCLe9",
        "outputId": "6ed5cdd6-5e18-42f8-e884-380399aadd69"
      },
      "execution_count": null,
      "outputs": [
        {
          "output_type": "display_data",
          "data": {
            "text/plain": [
              "<Figure size 640x480 with 1 Axes>"
            ],
            "image/png": "[encoded data removed]"
          },
          "metadata": {}
        }
      ]
    },
    {
      "cell_type": "code",
      "source": [
        "import seaborn as sns\n",
        "import matplotlib.pyplot as plt\n",
        "\n",
        "sns.countplot(x=\"diabetes\", hue=\"Risk\", data=df, palette=\"coolwarm\")\n",
        "plt.title('Distribusi Kolom diabetes')\n",
        "plt.xlabel('diabetes')\n",
        "plt.ylabel('Jumlah')\n",
        "plt.show()\n"
      ],
      "metadata": {
        "colab": {
          "base_uri": "https://localhost:8080/",
          "height": 472
        },
        "id": "anCwTkVjCTUa",
        "outputId": "db7097da-37b4-4257-9851-29fb5599aba7"
      },
      "execution_count": null,
      "outputs": [
        {
          "output_type": "display_data",
          "data": {
            "text/plain": [
              "<Figure size 640x480 with 1 Axes>"
            ],
            "image/png": "[encoded data removed]"
          },
          "metadata": {}
        }
      ]
    },
    {
      "cell_type": "markdown",
      "source": [
        "**Memisahkan atibut numerik dan kategorikal**"
      ],
      "metadata": {
        "id": "ozSYc3uVGgKU"
      }
    },
    {
      "cell_type": "code",
      "source": [
        "num_cols = ['age', 'cigsPerDay', 'totChol', 'sysBP', 'diaBP', 'BMI', 'heartRate', 'glucose']\n",
        "cat_cols = ['male', 'BPMeds', 'diabetes', 'currentSmoker']"
      ],
      "metadata": {
        "id": "5u8mEQ779-a1"
      },
      "execution_count": null,
      "outputs": []
    },
    {
      "cell_type": "markdown",
      "source": [
        "**Mengecek nilai outlier**"
      ],
      "metadata": {
        "id": "Y9Iye-n0Glff"
      }
    },
    {
      "cell_type": "code",
      "source": [
        "import seaborn as sns\n",
        "import matplotlib.pyplot as plt\n",
        "\n",
        "# selecting columns to plot box plot\n",
        "cols = df[num_cols]\n",
        "\n",
        "# checking outliers\n",
        "plt.figure(figsize=(10,10),facecolor='white')\n",
        "plotnumber=1\n",
        "\n",
        "for column in cols[1:]:\n",
        "    ax=plt.subplot(4,4,plotnumber)\n",
        "    sns.boxplot(df[column])\n",
        "    plt.xlabel(column,fontsize=10)\n",
        "    plotnumber+=1"
      ],
      "metadata": {
        "colab": {
          "base_uri": "https://localhost:8080/",
          "height": 436
        },
        "id": "1hiR8hGn-Ar_",
        "outputId": "e79ce4a9-1420-494d-9ee2-e0c76da959e2"
      },
      "execution_count": null,
      "outputs": [
        {
          "output_type": "display_data",
          "data": {
            "text/plain": [
              "<Figure size 1000x1000 with 8 Axes>"
            ],
            "image/png": "[encoded data removed]"
          },
          "metadata": {}
        }
      ]
    },
    {
      "cell_type": "code",
      "source": [
        "# function to remove outliers using the IQR method\n",
        "def remove_outliers(df, columns):\n",
        "\n",
        "    # looping through each column\n",
        "    for col in columns:\n",
        "        feature = df[col]\n",
        "        q1 = feature.quantile(0.25)\n",
        "        q3 = feature.quantile(0.75)\n",
        "        IQR = q3 - q1\n",
        "        lower_bound = float(q1 - 1.5 * IQR)  # Cast to float\n",
        "        upper_bound = float(q3 + 1.5 * IQR)  # Cast to float\n",
        "\n",
        "        # replacing outliers with bounds\n",
        "        df[col] = np.where(df[col] < lower_bound, lower_bound, df[col])\n",
        "        df[col] = np.where(df[col] > upper_bound, upper_bound, df[col])\n",
        "\n",
        "    return df"
      ],
      "metadata": {
        "id": "FPdya9RR-Cg6"
      },
      "execution_count": null,
      "outputs": []
    },
    {
      "cell_type": "code",
      "source": [
        "# Remove outliers from specified columns\n",
        "df = remove_outliers(df, cols)\n",
        "\n",
        "# checking outliers\n",
        "plt.figure(figsize=(10,10),facecolor='white')\n",
        "plotnumber=1\n",
        "\n",
        "for column in cols[1:]:\n",
        "    ax=plt.subplot(4,4,plotnumber)\n",
        "    sns.boxplot(df[column])\n",
        "    plt.xlabel(column,fontsize=10)\n",
        "    plotnumber+=1"
      ],
      "metadata": {
        "colab": {
          "base_uri": "https://localhost:8080/",
          "height": 435
        },
        "id": "ryEh9hGq-E8T",
        "outputId": "3a873173-14ef-436e-c87c-595a9830b6ab"
      },
      "execution_count": null,
      "outputs": [
        {
          "output_type": "display_data",
          "data": {
            "text/plain": [
              "<Figure size 1000x1000 with 8 Axes>"
            ],
            "image/png": "[encoded data removed]"
          },
          "metadata": {}
        }
      ]
    },
    {
      "cell_type": "code",
      "source": [
        "# splitting data\n",
        "X = df.drop('Risk', axis = 1)\n",
        "y = df['Risk']"
      ],
      "metadata": {
        "id": "7wueF2xG-IIi"
      },
      "execution_count": null,
      "outputs": []
    },
    {
      "cell_type": "markdown",
      "source": [
        "**Split dataset 80% dan 20%**"
      ],
      "metadata": {
        "id": "FS_ukvTlGpwA"
      }
    },
    {
      "cell_type": "code",
      "source": [
        "# splitting data into training and testing\n",
        "from sklearn.model_selection import train_test_split\n",
        "X_train, X_test, y_train, y_test = train_test_split(X, y, test_size = 0.2, random_state = 42)"
      ],
      "metadata": {
        "id": "X2JcW2GK-eGw"
      },
      "execution_count": null,
      "outputs": []
    },
    {
      "cell_type": "code",
      "source": [
        "X_train.shape, y_train.shape, X_test.shape, y_test.shape"
      ],
      "metadata": {
        "colab": {
          "base_uri": "https://localhost:8080/"
        },
        "id": "2bHMlPkP-giw",
        "outputId": "33cea93c-6ecd-4ff8-9cb2-f4cc14e4286d"
      },
      "execution_count": null,
      "outputs": [
        {
          "output_type": "execute_result",
          "data": {
            "text/plain": [
              "((3392, 12), (3392,), (848, 12), (848,))"
            ]
          },
          "metadata": {},
          "execution_count": 23
        }
      ]
    },
    {
      "cell_type": "code",
      "source": [
        "df['Risk'].value_counts()"
      ],
      "metadata": {
        "id": "uDokCa6DgGqR",
        "outputId": "1183000e-35b4-4830-e3a2-a3e8bd0b5070",
        "colab": {
          "base_uri": "https://localhost:8080/",
          "height": 178
        }
      },
      "execution_count": null,
      "outputs": [
        {
          "output_type": "execute_result",
          "data": {
            "text/plain": [
              "Risk\n",
              "0    2923\n",
              "1    1317\n",
              "Name: count, dtype: int64"
            ],
            "text/html": [
              "<div>\n",
              "<style scoped>\n",
              "    .dataframe tbody tr th:only-of-type {\n",
              "        vertical-align: middle;\n",
              "    }\n",
              "\n",
              "    .dataframe tbody tr th {\n",
              "        vertical-align: top;\n",
              "    }\n",
              "\n",
              "    .dataframe thead th {\n",
              "        text-align: right;\n",
              "    }\n",
              "</style>\n",
              "<table border=\"1\" class=\"dataframe\">\n",
              "  <thead>\n",
              "    <tr style=\"text-align: right;\">\n",
              "      <th></th>\n",
              "      <th>count</th>\n",
              "    </tr>\n",
              "    <tr>\n",
              "      <th>Risk</th>\n",
              "      <th></th>\n",
              "    </tr>\n",
              "  </thead>\n",
              "  <tbody>\n",
              "    <tr>\n",
              "      <th>0</th>\n",
              "      <td>2923</td>\n",
              "    </tr>\n",
              "    <tr>\n",
              "      <th>1</th>\n",
              "      <td>1317</td>\n",
              "    </tr>\n",
              "  </tbody>\n",
              "</table>\n",
              "</div><br><label><b>dtype:</b> int64</label>"
            ]
          },
          "metadata": {},
          "execution_count": 24
        }
      ]
    },
    {
      "cell_type": "markdown",
      "source": [
        "**Menyimpan Data Training dan Data Testing**"
      ],
      "metadata": {
        "id": "UDIMg-JyOPUc"
      }
    },
    {
      "cell_type": "code",
      "source": [
        "# Gabungkan kembali data training (X_train dan y_train)\n",
        "train_data = X_train.copy()\n",
        "train_data['Risk'] = y_train\n",
        "\n",
        "# Simpan data training ke file Excel\n",
        "train_data.to_csv(\"/content/drive/MyDrive/Klasifikasi Hipertensi/data_training.csv\", index=False)\n",
        "\n",
        "print(\"Data training berhasil disimpan ke file 'data_training.csv'\")"
      ],
      "metadata": {
        "colab": {
          "base_uri": "https://localhost:8080/"
        },
        "id": "AMf0x3GUA5Au",
        "outputId": "2ede129d-7c6a-4d11-e5fa-6bd420af6e71"
      },
      "execution_count": null,
      "outputs": [
        {
          "output_type": "stream",
          "name": "stdout",
          "text": [
            "Data training berhasil disimpan ke file 'data_training.csv'\n"
          ]
        }
      ]
    },
    {
      "cell_type": "code",
      "source": [
        "# Gabungkan kembali data testing (X_test dan y_test)\n",
        "test_data = X_test.copy()\n",
        "test_data['Risk'] = y_test\n",
        "\n",
        "# Simpan data testing ke file CSV\n",
        "test_data.to_csv(\"/content/drive/MyDrive/Klasifikasi Hipertensi/data_testing.csv\", index=False)\n",
        "\n",
        "print(\"Data testing berhasil disimpan ke file 'data_testing.csv'\")\n"
      ],
      "metadata": {
        "colab": {
          "base_uri": "https://localhost:8080/"
        },
        "id": "6BgAWQSBOM-J",
        "outputId": "5a6a4bd5-abcf-4918-d378-f3049259d4a2"
      },
      "execution_count": null,
      "outputs": [
        {
          "output_type": "stream",
          "name": "stdout",
          "text": [
            "Data testing berhasil disimpan ke file 'data_testing.csv'\n"
          ]
        }
      ]
    },
    {
      "cell_type": "code",
      "source": [
        "# Mengecek jumlah label di data training\n",
        "label_counts = y_train.value_counts()\n",
        "print(\"Jumlah label di data training:\")\n",
        "print(label_counts)\n",
        "\n",
        "# Atau untuk mencetak jumlah masing-masing kelas secara eksplisit\n",
        "print(f\"Jumlah 'risk 1': {label_counts.get('risk 1', 0)}\")\n",
        "print(f\"Jumlah 'risk 0': {label_counts.get('risk 0', 0)}\")"
      ],
      "metadata": {
        "colab": {
          "base_uri": "https://localhost:8080/"
        },
        "id": "0rpYfz4a-kFA",
        "outputId": "68f42977-09bd-4521-fc61-b08cf20a0f63"
      },
      "execution_count": null,
      "outputs": [
        {
          "output_type": "stream",
          "name": "stdout",
          "text": [
            "Jumlah label di data training:\n",
            "Risk\n",
            "0    2328\n",
            "1    1064\n",
            "Name: count, dtype: int64\n",
            "Jumlah 'risk 1': 0\n",
            "Jumlah 'risk 0': 0\n"
          ]
        }
      ]
    },
    {
      "cell_type": "markdown",
      "source": [
        "**Melatih Model Naive Bayes**"
      ],
      "metadata": {
        "id": "bDcjF9AXG3OH"
      }
    },
    {
      "cell_type": "code",
      "source": [
        "import matplotlib.pyplot as plt\n",
        "import seaborn as sns\n",
        "\n",
        "import pandas as pd\n",
        "from sklearn.model_selection import train_test_split\n",
        "from sklearn.naive_bayes import GaussianNB\n",
        "from sklearn.metrics import accuracy_score, classification_report\n",
        "\n",
        "# Membuat model Naive Bayes\n",
        "model = GaussianNB()\n",
        "\n",
        "# Melatih model\n",
        "model.fit(X_train, y_train)\n",
        "\n",
        "# Membuat prediksi\n",
        "y_pred = model.predict(X_test)\n",
        "\n",
        "# Mencetak akurasi model\n",
        "print(\"Akurasi model: \", accuracy_score(y_test, y_pred))\n",
        "\n",
        "# Mencetak laporan klasifikasi\n",
        "print(\"Laporan klasifikasi: \\n\", classification_report(y_test, y_pred))\n"
      ],
      "metadata": {
        "colab": {
          "base_uri": "https://localhost:8080/"
        },
        "id": "8ecqQzZOBKO0",
        "outputId": "bce274fd-e769-4126-a09a-79251305fd8c"
      },
      "execution_count": null,
      "outputs": [
        {
          "output_type": "stream",
          "name": "stdout",
          "text": [
            "Akurasi model:  0.8856132075471698\n",
            "Laporan klasifikasi: \n",
            "               precision    recall  f1-score   support\n",
            "\n",
            "           0       0.92      0.92      0.92       595\n",
            "           1       0.81      0.81      0.81       253\n",
            "\n",
            "    accuracy                           0.89       848\n",
            "   macro avg       0.86      0.86      0.86       848\n",
            "weighted avg       0.89      0.89      0.89       848\n",
            "\n"
          ]
        }
      ]
    },
    {
      "cell_type": "code",
      "source": [
        "y_test.value_counts()"
      ],
      "metadata": {
        "colab": {
          "base_uri": "https://localhost:8080/",
          "height": 178
        },
        "id": "Hc0dVLBu_CpT",
        "outputId": "840021a9-9be8-4b00-ecc4-f17b5dd8e75f"
      },
      "execution_count": null,
      "outputs": [
        {
          "output_type": "execute_result",
          "data": {
            "text/plain": [
              "Risk\n",
              "0    595\n",
              "1    253\n",
              "Name: count, dtype: int64"
            ],
            "text/html": [
              "<div>\n",
              "<style scoped>\n",
              "    .dataframe tbody tr th:only-of-type {\n",
              "        vertical-align: middle;\n",
              "    }\n",
              "\n",
              "    .dataframe tbody tr th {\n",
              "        vertical-align: top;\n",
              "    }\n",
              "\n",
              "    .dataframe thead th {\n",
              "        text-align: right;\n",
              "    }\n",
              "</style>\n",
              "<table border=\"1\" class=\"dataframe\">\n",
              "  <thead>\n",
              "    <tr style=\"text-align: right;\">\n",
              "      <th></th>\n",
              "      <th>count</th>\n",
              "    </tr>\n",
              "    <tr>\n",
              "      <th>Risk</th>\n",
              "      <th></th>\n",
              "    </tr>\n",
              "  </thead>\n",
              "  <tbody>\n",
              "    <tr>\n",
              "      <th>0</th>\n",
              "      <td>595</td>\n",
              "    </tr>\n",
              "    <tr>\n",
              "      <th>1</th>\n",
              "      <td>253</td>\n",
              "    </tr>\n",
              "  </tbody>\n",
              "</table>\n",
              "</div><br><label><b>dtype:</b> int64</label>"
            ]
          },
          "metadata": {},
          "execution_count": 30
        }
      ]
    },
    {
      "cell_type": "code",
      "source": [
        "# Membuat prediksi\n",
        "y_pred = model.predict(X_test)\n",
        "y_pred"
      ],
      "metadata": {
        "colab": {
          "base_uri": "https://localhost:8080/"
        },
        "id": "vYA_6Bp7BWoO",
        "outputId": "32055257-2e63-4e6f-8767-53102c8a696d"
      },
      "execution_count": null,
      "outputs": [
        {
          "output_type": "execute_result",
          "data": {
            "text/plain": [
              "array([0, 0, 0, 1, 0, 1, 0, 0, 0, 0, 0, 0, 0, 1, 0, 1, 0, 1, 1, 0, 1, 0,\n",
              "       0, 0, 0, 0, 0, 0, 0, 1, 0, 0, 1, 1, 0, 0, 0, 0, 0, 1, 1, 0, 0, 0,\n",
              "       0, 0, 1, 1, 0, 0, 0, 1, 0, 0, 0, 1, 0, 0, 0, 0, 0, 1, 0, 0, 0, 1,\n",
              "       1, 1, 0, 1, 1, 0, 0, 0, 1, 0, 0, 1, 0, 1, 1, 0, 0, 0, 0, 0, 0, 0,\n",
              "       1, 1, 0, 0, 0, 0, 0, 1, 0, 0, 1, 0, 0, 0, 0, 0, 0, 0, 0, 1, 0, 1,\n",
              "       0, 0, 0, 0, 0, 1, 1, 1, 0, 0, 1, 1, 1, 0, 1, 1, 1, 1, 0, 0, 0, 1,\n",
              "       1, 0, 0, 1, 0, 1, 0, 0, 0, 0, 0, 0, 1, 0, 0, 0, 0, 1, 1, 0, 0, 0,\n",
              "       1, 0, 0, 0, 0, 0, 0, 1, 0, 1, 0, 1, 0, 0, 0, 0, 0, 0, 0, 0, 0, 1,\n",
              "       0, 0, 1, 0, 0, 0, 0, 0, 0, 1, 1, 0, 0, 0, 0, 0, 0, 0, 1, 0, 0, 0,\n",
              "       1, 0, 0, 0, 0, 1, 0, 0, 1, 0, 0, 0, 1, 0, 0, 0, 1, 0, 0, 0, 0, 0,\n",
              "       1, 0, 0, 1, 0, 0, 0, 0, 0, 1, 0, 1, 0, 0, 0, 0, 0, 0, 0, 0, 1, 0,\n",
              "       0, 1, 1, 0, 0, 1, 0, 0, 1, 0, 0, 1, 0, 1, 0, 0, 0, 0, 0, 0, 0, 0,\n",
              "       1, 1, 0, 0, 0, 1, 0, 0, 0, 0, 1, 0, 0, 0, 0, 0, 0, 0, 1, 0, 1, 0,\n",
              "       0, 1, 0, 1, 0, 0, 0, 0, 0, 1, 0, 0, 0, 1, 1, 1, 1, 0, 1, 0, 1, 0,\n",
              "       0, 0, 1, 1, 1, 0, 1, 1, 0, 1, 0, 0, 0, 0, 0, 0, 1, 0, 0, 0, 0, 0,\n",
              "       1, 0, 1, 1, 0, 1, 0, 0, 0, 0, 0, 0, 0, 0, 0, 0, 0, 0, 1, 1, 0, 0,\n",
              "       0, 0, 0, 0, 0, 0, 0, 1, 0, 0, 0, 1, 0, 0, 0, 1, 0, 0, 0, 0, 1, 1,\n",
              "       0, 1, 1, 0, 0, 0, 0, 0, 0, 0, 0, 1, 1, 1, 0, 1, 0, 0, 0, 0, 0, 0,\n",
              "       0, 0, 0, 1, 0, 1, 0, 0, 0, 1, 0, 0, 1, 0, 0, 1, 1, 1, 0, 0, 0, 0,\n",
              "       0, 1, 1, 1, 0, 0, 0, 1, 0, 0, 0, 0, 1, 0, 0, 0, 0, 0, 1, 0, 1, 0,\n",
              "       0, 1, 0, 1, 1, 1, 1, 1, 0, 0, 0, 0, 0, 0, 0, 0, 1, 0, 1, 0, 0, 0,\n",
              "       1, 0, 1, 0, 1, 0, 0, 0, 0, 0, 0, 1, 0, 1, 1, 0, 0, 0, 0, 0, 1, 0,\n",
              "       0, 1, 0, 0, 0, 0, 0, 1, 0, 0, 1, 1, 0, 0, 0, 1, 0, 0, 1, 1, 0, 0,\n",
              "       1, 0, 0, 0, 0, 0, 0, 0, 0, 1, 0, 0, 0, 1, 1, 0, 0, 0, 0, 0, 0, 0,\n",
              "       0, 0, 1, 1, 0, 0, 0, 0, 1, 0, 0, 1, 0, 0, 0, 0, 1, 1, 1, 0, 0, 0,\n",
              "       1, 1, 0, 1, 1, 1, 0, 1, 1, 1, 0, 0, 0, 0, 0, 0, 0, 1, 1, 0, 0, 1,\n",
              "       0, 1, 1, 0, 1, 0, 0, 0, 1, 0, 0, 0, 0, 0, 0, 0, 1, 0, 0, 1, 1, 0,\n",
              "       0, 1, 1, 1, 0, 0, 1, 0, 0, 0, 0, 1, 0, 0, 0, 1, 0, 0, 0, 0, 0, 1,\n",
              "       0, 0, 0, 1, 1, 0, 0, 1, 1, 1, 0, 0, 0, 0, 1, 1, 0, 0, 0, 0, 0, 0,\n",
              "       1, 0, 1, 1, 1, 0, 0, 0, 0, 0, 0, 0, 1, 0, 0, 0, 1, 0, 0, 0, 0, 0,\n",
              "       0, 1, 0, 0, 0, 0, 0, 1, 1, 0, 0, 0, 0, 0, 0, 0, 0, 0, 1, 0, 0, 0,\n",
              "       1, 1, 1, 0, 0, 0, 0, 0, 0, 0, 0, 0, 0, 0, 0, 0, 1, 0, 1, 0, 0, 0,\n",
              "       1, 0, 0, 0, 0, 0, 1, 1, 0, 1, 0, 0, 1, 0, 0, 0, 0, 0, 0, 0, 0, 0,\n",
              "       0, 0, 1, 0, 0, 0, 0, 1, 1, 1, 0, 0, 0, 0, 0, 1, 0, 0, 0, 0, 1, 0,\n",
              "       0, 1, 1, 0, 0, 1, 1, 0, 0, 1, 0, 1, 0, 1, 0, 0, 0, 1, 0, 0, 0, 0,\n",
              "       1, 0, 0, 0, 1, 0, 1, 0, 0, 0, 1, 0, 1, 1, 0, 1, 0, 0, 0, 0, 1, 1,\n",
              "       1, 0, 0, 0, 0, 1, 1, 0, 0, 1, 0, 1, 0, 0, 0, 1, 0, 0, 0, 1, 0, 0,\n",
              "       0, 1, 1, 0, 0, 0, 0, 0, 1, 0, 1, 1, 0, 0, 0, 0, 0, 0, 0, 0, 1, 0,\n",
              "       0, 0, 0, 0, 1, 1, 1, 0, 0, 1, 0, 0])"
            ]
          },
          "metadata": {},
          "execution_count": 31
        }
      ]
    },
    {
      "cell_type": "code",
      "source": [
        "from sklearn.metrics import accuracy_score\n",
        "\n",
        "print('Model accuracy score: {0:0.2f}'. format(accuracy_score(y_test, y_pred)))"
      ],
      "metadata": {
        "colab": {
          "base_uri": "https://localhost:8080/"
        },
        "id": "DMrMQvlj_Noo",
        "outputId": "f2c0ce3b-59d6-4528-cdce-a4ef46401bd8"
      },
      "execution_count": null,
      "outputs": [
        {
          "output_type": "stream",
          "name": "stdout",
          "text": [
            "Model accuracy score: 0.89\n"
          ]
        }
      ]
    },
    {
      "cell_type": "markdown",
      "source": [
        "**Confusion Matriks**"
      ],
      "metadata": {
        "id": "VPLYGZyLHEvP"
      }
    },
    {
      "cell_type": "code",
      "source": [
        "from sklearn.metrics import confusion_matrix\n",
        "# Membuat matriks konfusi\n",
        "matriks_konfusi = confusion_matrix(y_test, y_pred)\n",
        "\n",
        "# Membuat plot matriks konfusi\n",
        "plt.figure(figsize=(8, 6))\n",
        "sns.heatmap(matriks_konfusi, fmt=\"d\", annot=True, cmap='Blues')\n",
        "plt.xlabel('Prediksi')\n",
        "plt.ylabel('Aktual')\n",
        "plt.title('Confusion Matrix')\n",
        "plt.show()\n"
      ],
      "metadata": {
        "colab": {
          "base_uri": "https://localhost:8080/",
          "height": 564
        },
        "id": "q6X0TiySEs-a",
        "outputId": "8bc7941e-f333-4528-bb79-658d0169e880"
      },
      "execution_count": null,
      "outputs": [
        {
          "output_type": "display_data",
          "data": {
            "text/plain": [
              "<Figure size 800x600 with 2 Axes>"
            ],
            "image/png": "[encoded data removed]"
          },
          "metadata": {}
        }
      ]
    },
    {
      "cell_type": "code",
      "source": [
        "TP = matriks_konfusi[0,0]\n",
        "TN = matriks_konfusi[1,1]\n",
        "FP = matriks_konfusi[0,1]\n",
        "FN = matriks_konfusi[1,0]"
      ],
      "metadata": {
        "id": "Y06mapgi_ZW3"
      },
      "execution_count": null,
      "outputs": []
    },
    {
      "cell_type": "code",
      "source": [
        "# Classification Accuracy\n",
        "classification_accuracy = (TP + TN) / (TP + TN + FP + FN)\n",
        "print('Classification Accuracy : {0:0.4f}'.format(classification_accuracy))\n",
        "\n",
        "# Precision\n",
        "precision = TP / (TP + FP) if (TP + FP) != 0 else 0\n",
        "print('Precision : {0:0.4f}'.format(precision))\n",
        "\n",
        "# Recall (Sensitivity or True Positive Rate)\n",
        "recall = TP / (TP + FN) if (TP + FN) != 0 else 0\n",
        "print('Recall (Sensitivity) : {0:0.4f}'.format(recall))\n",
        "\n",
        "# F1-Score\n",
        "f1_score = (2 * precision * recall) / (precision + recall) if (precision + recall) != 0 else 0\n",
        "print('F1 Score : {0:0.4f}'.format(f1_score))"
      ],
      "metadata": {
        "colab": {
          "base_uri": "https://localhost:8080/"
        },
        "id": "6DLGc_0T_ajN",
        "outputId": "4eba81d4-00fc-408f-d26d-689a832dfa22"
      },
      "execution_count": null,
      "outputs": [
        {
          "output_type": "stream",
          "name": "stdout",
          "text": [
            "Classification Accuracy : 0.8856\n",
            "Precision : 0.9193\n",
            "Recall (Sensitivity) : 0.9178\n",
            "F1 Score : 0.9186\n"
          ]
        }
      ]
    },
    {
      "cell_type": "markdown",
      "source": [
        "**Menampilkan tabel perbandingan**"
      ],
      "metadata": {
        "id": "L84B6QbJQKIr"
      }
    },
    {
      "cell_type": "code",
      "source": [
        "# Membuat tabel perbandingan hasil prediksi\n",
        "comparison_df = pd.DataFrame({\n",
        "    \"Actual\": y_test.values,\n",
        "    \"Predicted\": y_pred\n",
        "})\n",
        "\n",
        "# Menampilkan tabel perbandingan\n",
        "print(comparison_df)"
      ],
      "metadata": {
        "colab": {
          "base_uri": "https://localhost:8080/"
        },
        "id": "VlLNCzQGQNON",
        "outputId": "076b678c-0c97-43bc-d46b-dacdd6010699"
      },
      "execution_count": null,
      "outputs": [
        {
          "output_type": "stream",
          "name": "stdout",
          "text": [
            "     Actual  Predicted\n",
            "0         0          0\n",
            "1         0          0\n",
            "2         1          0\n",
            "3         1          1\n",
            "4         0          0\n",
            "..      ...        ...\n",
            "843       0          0\n",
            "844       0          0\n",
            "845       1          1\n",
            "846       0          0\n",
            "847       0          0\n",
            "\n",
            "[848 rows x 2 columns]\n"
          ]
        }
      ]
    },
    {
      "cell_type": "markdown",
      "source": [
        "**Menampilkan Tabel prediksi yang benar**"
      ],
      "metadata": {
        "id": "30GKd6GbL5t2"
      }
    },
    {
      "cell_type": "code",
      "source": [
        "# Menampilkan hanya baris di mana prediksi benar (Actual == Predicted)\n",
        "correct_predictions = comparison_df[comparison_df[\"Actual\"] == comparison_df[\"Predicted\"]]\n",
        "\n",
        "# Menampilkan tabel perbandingan hanya yang benar\n",
        "print(\"Data dengan prediksi yang benar:\")\n",
        "print(correct_predictions)"
      ],
      "metadata": {
        "colab": {
          "base_uri": "https://localhost:8080/"
        },
        "id": "V9GZ0e_YE5DK",
        "outputId": "42f424c9-25bc-4ca5-c580-f798814fc1d5"
      },
      "execution_count": null,
      "outputs": [
        {
          "output_type": "stream",
          "name": "stdout",
          "text": [
            "Data dengan prediksi yang benar:\n",
            "     Actual  Predicted\n",
            "0         0          0\n",
            "1         0          0\n",
            "3         1          1\n",
            "4         0          0\n",
            "5         1          1\n",
            "..      ...        ...\n",
            "843       0          0\n",
            "844       0          0\n",
            "845       1          1\n",
            "846       0          0\n",
            "847       0          0\n",
            "\n",
            "[751 rows x 2 columns]\n"
          ]
        }
      ]
    },
    {
      "cell_type": "markdown",
      "source": [
        "**Menampilkan tabel prediksi yang salah**"
      ],
      "metadata": {
        "id": "gTgzca1UL9tU"
      }
    },
    {
      "cell_type": "code",
      "source": [
        "# Menampilkan hanya baris di mana prediksi benar (Actual == Predicted)\n",
        "correct_predictions = comparison_df[comparison_df[\"Actual\"] != comparison_df[\"Predicted\"]]\n",
        "\n",
        "# Menampilkan tabel perbandingan hanya yang benar\n",
        "print(\"Data dengan prediksi yang salah:\")\n",
        "print(correct_predictions)"
      ],
      "metadata": {
        "colab": {
          "base_uri": "https://localhost:8080/"
        },
        "id": "rXK-ZdbbE7Xy",
        "outputId": "671fbcaa-82a8-42a3-90bf-1f6306ecfa70"
      },
      "execution_count": null,
      "outputs": [
        {
          "output_type": "stream",
          "name": "stdout",
          "text": [
            "Data dengan prediksi yang salah:\n",
            "     Actual  Predicted\n",
            "2         1          0\n",
            "13        0          1\n",
            "26        1          0\n",
            "29        0          1\n",
            "34        1          0\n",
            "..      ...        ...\n",
            "801       0          1\n",
            "812       1          0\n",
            "813       1          0\n",
            "816       0          1\n",
            "841       0          1\n",
            "\n",
            "[97 rows x 2 columns]\n"
          ]
        }
      ]
    },
    {
      "cell_type": "markdown",
      "source": [
        "**Menghitung nilai Mean dan Standar Deviasi atribut numerik**"
      ],
      "metadata": {
        "id": "79cV3L65MNAu"
      }
    },
    {
      "cell_type": "code",
      "source": [
        "import pandas as pd\n",
        "\n",
        "# Baca data training\n",
        "file_path = '/content/drive/MyDrive/Klasifikasi Hipertensi/data_training.csv'  # Ganti nama file kalau perlu\n",
        "data = pd.read_csv(file_path)\n",
        "\n",
        "# Pastikan semua data numerik bertipe numerik\n",
        "data = data.apply(pd.to_numeric, errors='ignore')\n",
        "\n",
        "# Misal kolom targetnya 'Risk'\n",
        "kelas = 'Risk'\n",
        "\n",
        "# Daftar kolom numerik yang akan dihitung\n",
        "numerical_cols = ['age', 'cigsPerDay', 'totChol', 'sysBP', 'diaBP', 'BMI', 'heartRate', 'glucose']\n",
        "\n",
        "# Kelompokkan berdasarkan kelas\n",
        "grouped = data.groupby(kelas)[numerical_cols]\n",
        "\n",
        "# Hitung Mean, Standar Deviasi, dan Variansi\n",
        "mean_per_class = grouped.mean()\n",
        "std_per_class = grouped.std()\n",
        "var_per_class = grouped.var()\n",
        "\n",
        "# Tampilkan hasil\n",
        "print(\"Mean tiap kelas:\\n\", mean_per_class)\n",
        "print(\"\\nStandar Deviasi tiap kelas:\\n\", std_per_class)\n",
        "print(\"\\nVariansi tiap kelas:\\n\", var_per_class)\n"
      ],
      "metadata": {
        "colab": {
          "base_uri": "https://localhost:8080/"
        },
        "id": "7MBLBS7ABfgs",
        "outputId": "e53efc38-e329-4a91-f61d-a91255dcc5b5"
      },
      "execution_count": null,
      "outputs": [
        {
          "output_type": "stream",
          "name": "stdout",
          "text": [
            "Mean tiap kelas:\n",
            "             age  cigsPerDay     totChol       sysBP      diaBP        BMI  \\\n",
            "Risk                                                                        \n",
            "0     47.767182    9.674877  232.341059  121.914948  78.007517  24.959818   \n",
            "1     53.552632    7.994400  246.458735  154.108553  93.355733  27.432010   \n",
            "\n",
            "      heartRate    glucose  \n",
            "Risk                        \n",
            "0     74.753651  79.270249  \n",
            "1     78.635225  81.268508  \n",
            "\n",
            "Standar Deviasi tiap kelas:\n",
            "            age  cigsPerDay    totChol      sysBP      diaBP       BMI  \\\n",
            "Risk                                                                    \n",
            "0     8.103696   11.679775  40.992106  12.916439   8.353560  3.468136   \n",
            "1     8.157726   11.883966  42.542100  17.548742  10.215348  3.993102   \n",
            "\n",
            "      heartRate    glucose  \n",
            "Risk                        \n",
            "0     11.096831  11.083053  \n",
            "1     12.119861  12.028455  \n",
            "\n",
            "Variansi tiap kelas:\n",
            "             age  cigsPerDay      totChol       sysBP       diaBP        BMI  \\\n",
            "Risk                                                                          \n",
            "0     65.669881  136.417144  1680.352716  166.834405   69.781959  12.027967   \n",
            "1     66.548497  141.228645  1809.830273  307.958337  104.353344  15.944866   \n",
            "\n",
            "       heartRate     glucose  \n",
            "Risk                          \n",
            "0     123.139651  122.834067  \n",
            "1     146.891029  144.683720  \n"
          ]
        },
        {
          "output_type": "stream",
          "name": "stderr",
          "text": [
            "<ipython-input-33-ee937a400a15>:8: FutureWarning: errors='ignore' is deprecated and will raise in a future version. Use to_numeric without passing `errors` and catch exceptions explicitly instead\n",
            "  data = data.apply(pd.to_numeric, errors='ignore')\n"
          ]
        }
      ]
    },
    {
      "cell_type": "markdown",
      "source": [
        "**Menghitung nilai probabilitas atribut kategorikal**"
      ],
      "metadata": {
        "id": "oQ-D1vavMaxT"
      }
    },
    {
      "cell_type": "code",
      "source": [
        "import pandas as pd\n",
        "\n",
        "# Membaca file\n",
        "file_path = '/content/drive/MyDrive/Klasifikasi Hipertensi/data_training.csv'\n",
        "data = pd.read_csv(file_path)\n",
        "\n",
        "# Pastikan kolom Risk dibaca dengan benar\n",
        "data['Risk'] = data['Risk'].astype(int)\n",
        "\n",
        "# Pilih atribut kategorikal\n",
        "categorical_cols = ['male', 'currentSmoker', 'BPMeds', 'diabetes']\n",
        "\n",
        "# Menghitung probabilitas untuk setiap kelas Risk\n",
        "prob_per_class = {}\n",
        "\n",
        "for col in categorical_cols:\n",
        "    prob = data.groupby('Risk')[col].value_counts(normalize=True).unstack()\n",
        "    prob_per_class[col] = prob\n",
        "\n",
        "# Menampilkan hasil\n",
        "for col, probs in prob_per_class.items():\n",
        "    print(f\"\\nProbabilitas untuk atribut '{col}':\")\n",
        "    print(probs)\n"
      ],
      "metadata": {
        "colab": {
          "base_uri": "https://localhost:8080/"
        },
        "id": "tPe13XAGDn3E",
        "outputId": "b77e0271-c299-495f-d141-3567702ef7a8"
      },
      "execution_count": null,
      "outputs": [
        {
          "output_type": "stream",
          "name": "stdout",
          "text": [
            "\n",
            "Probabilitas untuk atribut 'male':\n",
            "male         0         1\n",
            "Risk                    \n",
            "0     0.571306  0.428694\n",
            "1     0.581767  0.418233\n",
            "\n",
            "Probabilitas untuk atribut 'currentSmoker':\n",
            "currentSmoker         0         1\n",
            "Risk                             \n",
            "0              0.457045  0.542955\n",
            "1              0.574248  0.425752\n",
            "\n",
            "Probabilitas untuk atribut 'BPMeds':\n",
            "BPMeds       0.0       1.0\n",
            "Risk                      \n",
            "0       0.521478  0.478522\n",
            "1       0.517857  0.482143\n",
            "\n",
            "Probabilitas untuk atribut 'diabetes':\n",
            "diabetes         0         1\n",
            "Risk                        \n",
            "0         0.487973  0.512027\n",
            "1         0.482143  0.517857\n"
          ]
        }
      ]
    },
    {
      "cell_type": "markdown",
      "source": [
        "**Menghitung current SMoker**"
      ],
      "metadata": {
        "id": "FzORJQ8aDr87"
      }
    },
    {
      "cell_type": "code",
      "source": [
        "import pandas as pd\n",
        "\n",
        "# Membaca file\n",
        "file_path = '/content/drive/MyDrive/Klasifikasi Hipertensi/data_training.csv'\n",
        "data = pd.read_csv(file_path)\n",
        "\n",
        "# Filter data untuk Risk=0\n",
        "risk_0_data = data[data['Risk'] == 1]\n",
        "\n",
        "# Hitung jumlah total baris dengan Risk=0\n",
        "jumlah_risk_0 = len(risk_0_data)\n",
        "print(f\"Jumlah baris dengan Risk=0: {jumlah_risk_0}\")\n",
        "\n",
        "# Filter data untuk currentSmoker=1 dan Risk=0\n",
        "smoker_risk_0_data = data[(data['currentSmoker'] == 0) & (data['Risk'] == 1)]\n",
        "\n",
        "# Hitung jumlah baris dengan currentSmoker=1 dan Risk=0\n",
        "jumlah_smoker_risk_0 = len(smoker_risk_0_data)\n",
        "print(f\"Jumlah baris dengan currentSmoker=0 dan Risk=1: {jumlah_smoker_risk_0}\")\n",
        "\n",
        "# Hitung probabilitas bersyarat P(currentSmoker=1 | Risk=0)\n",
        "if jumlah_risk_0 > 0:\n",
        "    prob_smoker_given_risk_0 = jumlah_smoker_risk_0 / jumlah_risk_0\n",
        "    print(f\"P(currentSmoker=0 | Risk=1): {prob_smoker_given_risk_0}\")\n",
        "else:\n",
        "    print(\"Tidak ada data dengan Risk=0 untuk menghitung probabilitas.\")"
      ],
      "metadata": {
        "colab": {
          "base_uri": "https://localhost:8080/"
        },
        "id": "0KGcd1OLDu1I",
        "outputId": "6b754ca6-ed6d-4f1a-9539-eaa2d13276c3"
      },
      "execution_count": null,
      "outputs": [
        {
          "output_type": "stream",
          "name": "stdout",
          "text": [
            "Jumlah baris dengan Risk=0: 1064\n",
            "Jumlah baris dengan currentSmoker=0 dan Risk=1: 611\n",
            "P(currentSmoker=0 | Risk=1): 0.5742481203007519\n"
          ]
        }
      ]
    },
    {
      "cell_type": "code",
      "source": [
        "import pandas as pd\n",
        "\n",
        "# Membaca file\n",
        "file_path = '/content/drive/MyDrive/Klasifikasi Hipertensi/data_training.csv'\n",
        "data = pd.read_csv(file_path)\n",
        "\n",
        "# Filter data untuk Risk=0\n",
        "risk_1_data = data[data['Risk'] == 1]\n",
        "\n",
        "# Hitung jumlah total baris dengan Risk=0\n",
        "jumlah_risk_1 = len(risk_1_data)\n",
        "print(f\"Jumlah baris dengan Risk=1: {jumlah_risk_1}\")\n",
        "\n",
        "# Filter data untuk currentSmoker=1 dan Risk=0\n",
        "smoker_risk_1_data = data[(data['currentSmoker'] == 1) & (data['Risk'] == 1)]\n",
        "\n",
        "# Hitung jumlah baris dengan currentSmoker=1 dan Risk=0\n",
        "jumlah_smoker_risk_1 = len(smoker_risk_1_data)\n",
        "print(f\"Jumlah baris dengan currentSmoker=1 dan Risk=1: {jumlah_smoker_risk_1}\")\n",
        "\n",
        "# Hitung probabilitas bersyarat P(currentSmoker=1 | Risk=0)\n",
        "if jumlah_risk_1 > 0:\n",
        "    prob_smoker_given_risk_1 = jumlah_smoker_risk_1 / jumlah_risk_1\n",
        "    print(f\"P(currentSmoker=1 | Risk=1): {prob_smoker_given_risk_1}\")\n",
        "else:\n",
        "    print(\"Tidak ada data dengan Risk=0 untuk menghitung probabilitas.\")"
      ],
      "metadata": {
        "colab": {
          "base_uri": "https://localhost:8080/"
        },
        "id": "XCzIuFNcDrIy",
        "outputId": "9cd5e9a9-e7b2-4300-cd5b-cec74e0f0f02"
      },
      "execution_count": null,
      "outputs": [
        {
          "output_type": "stream",
          "name": "stdout",
          "text": [
            "Jumlah baris dengan Risk=1: 1064\n",
            "Jumlah baris dengan currentSmoker=1 dan Risk=1: 453\n",
            "P(currentSmoker=1 | Risk=1): 0.4257518796992481\n"
          ]
        }
      ]
    },
    {
      "cell_type": "markdown",
      "source": [
        "**Menghitung male**"
      ],
      "metadata": {
        "id": "OkfTjfhBENmx"
      }
    },
    {
      "cell_type": "code",
      "source": [
        "import pandas as pd\n",
        "\n",
        "# Membaca file\n",
        "file_path = '/content/drive/MyDrive/Klasifikasi Hipertensi/data_training.csv'\n",
        "data = pd.read_csv(file_path)\n",
        "\n",
        "# Filter data untuk Risk=0\n",
        "risk_0_data = data[data['Risk'] == 1]\n",
        "\n",
        "# Hitung jumlah total baris dengan Risk=0\n",
        "jumlah_risk_0 = len(risk_0_data)\n",
        "print(f\"Jumlah baris dengan Risk=0: {jumlah_risk_0}\")\n",
        "\n",
        "# Filter data untuk male=1 dan Risk=0\n",
        "male_risk_0_data = data[(data['male'] == 0) & (data['Risk'] == 1)]\n",
        "\n",
        "# Hitung jumlah baris dengan male=1 dan Risk=0\n",
        "jumlah_male_risk_0 = len(male_risk_0_data)\n",
        "print(f\"Jumlah baris dengan male=0 dan Risk=0: {jumlah_male_risk_0}\")\n",
        "\n",
        "# Hitung probabilitas bersyarat P(male=1 | Risk=0)\n",
        "if jumlah_risk_0 > 0:\n",
        "    prob_male_given_risk_0 = jumlah_male_risk_0 / jumlah_risk_0\n",
        "    print(f\"P(male=0 | Risk=0): {prob_male_given_risk_0}\")\n",
        "else:\n",
        "    print(\"Tidak ada data dengan Risk=0 untuk menghitung probabilitas.\")"
      ],
      "metadata": {
        "colab": {
          "base_uri": "https://localhost:8080/"
        },
        "id": "Eb-7tWN5EP5n",
        "outputId": "67ba44ea-575d-49ad-d614-3a318491cd9d"
      },
      "execution_count": null,
      "outputs": [
        {
          "output_type": "stream",
          "name": "stdout",
          "text": [
            "Jumlah baris dengan Risk=0: 1064\n",
            "Jumlah baris dengan male=0 dan Risk=0: 619\n",
            "P(male=0 | Risk=0): 0.581766917293233\n"
          ]
        }
      ]
    },
    {
      "cell_type": "code",
      "source": [
        "import pandas as pd\n",
        "\n",
        "# Membaca file\n",
        "file_path = '/content/drive/MyDrive/Klasifikasi Hipertensi/data_training.csv'\n",
        "data = pd.read_csv(file_path)\n",
        "\n",
        "# Filter data untuk Risk=1\n",
        "risk_1_data = data[data['Risk'] == 1]\n",
        "\n",
        "# Hitung jumlah total baris dengan Risk=1\n",
        "jumlah_risk_1 = len(risk_1_data)\n",
        "print(f\"Jumlah baris dengan Risk=1: {jumlah_risk_1}\")\n",
        "\n",
        "# Filter data untuk male=1 dan Risk=1\n",
        "male_risk_1_data = data[(data['male'] == 1) & (data['Risk'] == 1)]\n",
        "\n",
        "# Hitung jumlah baris dengan male=1 dan Risk=1\n",
        "jumlah_male_risk_1 = len(male_risk_1_data)\n",
        "print(f\"Jumlah baris dengan male=1 dan Risk=1: {jumlah_male_risk_1}\")\n",
        "\n",
        "# Hitung probabilitas bersyarat P(male=1 | Risk=1)\n",
        "if jumlah_risk_1 > 0:\n",
        "    prob_male_given_risk_1 = jumlah_male_risk_1 / jumlah_risk_1\n",
        "    print(f\"P(male=1 | Risk=1): {prob_male_given_risk_1}\")\n",
        "else:\n",
        "    print(\"Tidak ada data dengan Risk=1 untuk menghitung probabilitas.\")"
      ],
      "metadata": {
        "colab": {
          "base_uri": "https://localhost:8080/"
        },
        "id": "-phFjQubESL7",
        "outputId": "179168ad-c6a5-43cc-bfad-ec29ee74badd"
      },
      "execution_count": null,
      "outputs": [
        {
          "output_type": "stream",
          "name": "stdout",
          "text": [
            "Jumlah baris dengan Risk=1: 1064\n",
            "Jumlah baris dengan male=1 dan Risk=1: 445\n",
            "P(male=1 | Risk=1): 0.4182330827067669\n"
          ]
        }
      ]
    },
    {
      "cell_type": "markdown",
      "source": [
        "**Menghitung BPMeds**"
      ],
      "metadata": {
        "id": "3SJVd67HEUIR"
      }
    },
    {
      "cell_type": "code",
      "source": [
        "import pandas as pd\n",
        "\n",
        "# Membaca file\n",
        "file_path = '/content/drive/MyDrive/Klasifikasi Hipertensi/data_training.csv'\n",
        "data = pd.read_csv(file_path)\n",
        "\n",
        "# Filter data untuk Risk=0\n",
        "risk_0_data = data[data['Risk'] == 1]\n",
        "\n",
        "# Hitung jumlah total baris dengan Risk=0\n",
        "jumlah_risk_0 = len(risk_0_data)\n",
        "print(f\"Jumlah baris dengan Risk=0: {jumlah_risk_0}\")\n",
        "\n",
        "# Filter data untuk male=1 dan Risk=0\n",
        "male_risk_0_data = data[(data['BPMeds'] == 0) & (data['Risk'] == 1)]\n",
        "\n",
        "# Hitung jumlah baris dengan male=1 dan Risk=0\n",
        "jumlah_male_risk_0 = len(male_risk_0_data)\n",
        "print(f\"Jumlah baris dengan BPMeds=1 dan Risk=0: {jumlah_male_risk_0}\")\n",
        "\n",
        "# Hitung probabilitas bersyarat P(male=1 | Risk=0)\n",
        "if jumlah_risk_0 > 0:\n",
        "    prob_male_given_risk_0 = jumlah_male_risk_0 / jumlah_risk_0\n",
        "    print(f\"P(male=1 | Risk=0): {prob_male_given_risk_0}\")\n",
        "else:\n",
        "    print(\"Tidak ada data dengan Risk=0 untuk menghitung probabilitas.\")"
      ],
      "metadata": {
        "colab": {
          "base_uri": "https://localhost:8080/"
        },
        "id": "LzQOMOlJEZRU",
        "outputId": "7692ccd2-f094-4380-d029-c5ddf7a8ab19"
      },
      "execution_count": null,
      "outputs": [
        {
          "output_type": "stream",
          "name": "stdout",
          "text": [
            "Jumlah baris dengan Risk=0: 1064\n",
            "Jumlah baris dengan BPMeds=1 dan Risk=0: 551\n",
            "P(male=1 | Risk=0): 0.5178571428571429\n"
          ]
        }
      ]
    },
    {
      "cell_type": "code",
      "source": [
        "import pandas as pd\n",
        "\n",
        "# Membaca file\n",
        "file_path = '/content/drive/MyDrive/Klasifikasi Hipertensi/data_training.csv'\n",
        "data = pd.read_csv(file_path)\n",
        "\n",
        "# Filter data untuk Risk=0\n",
        "risk_0_data = data[data['Risk'] == 1]\n",
        "\n",
        "# Hitung jumlah total baris dengan Risk=0\n",
        "jumlah_risk_0 = len(risk_0_data)\n",
        "print(f\"Jumlah baris dengan Risk=0: {jumlah_risk_0}\")\n",
        "\n",
        "# Filter data untuk male=1 dan Risk=0\n",
        "male_risk_0_data = data[(data['BPMeds'] == 1) & (data['Risk'] == 1)]\n",
        "\n",
        "# Hitung jumlah baris dengan male=1 dan Risk=0\n",
        "jumlah_male_risk_0 = len(male_risk_0_data)\n",
        "print(f\"Jumlah baris dengan BPMeds=1 dan Risk=1: {jumlah_male_risk_0}\")\n",
        "\n",
        "# Hitung probabilitas bersyarat P(male=1 | Risk=0)\n",
        "if jumlah_risk_0 > 0:\n",
        "    prob_male_given_risk_0 = jumlah_male_risk_0 / jumlah_risk_0\n",
        "    print(f\"P(male=1 | Risk=1): {prob_male_given_risk_0}\")\n",
        "else:\n",
        "    print(\"Tidak ada data dengan Risk=0 untuk menghitung probabilitas.\")"
      ],
      "metadata": {
        "colab": {
          "base_uri": "https://localhost:8080/"
        },
        "id": "PJa7ynAFEbms",
        "outputId": "a8e370a3-9ff3-4372-ab86-e64ec21b0c58"
      },
      "execution_count": null,
      "outputs": [
        {
          "output_type": "stream",
          "name": "stdout",
          "text": [
            "Jumlah baris dengan Risk=0: 1064\n",
            "Jumlah baris dengan BPMeds=1 dan Risk=1: 513\n",
            "P(male=1 | Risk=1): 0.48214285714285715\n"
          ]
        }
      ]
    },
    {
      "cell_type": "markdown",
      "source": [
        "**Menghitung diabetes**"
      ],
      "metadata": {
        "id": "6w_Xsk5SMoiM"
      }
    },
    {
      "cell_type": "code",
      "source": [
        "import pandas as pd\n",
        "\n",
        "# Membaca file\n",
        "file_path = '/content/drive/MyDrive/Klasifikasi Hipertensi/data_training.csv'\n",
        "data = pd.read_csv(file_path)\n",
        "\n",
        "# Filter data untuk Risk=0\n",
        "risk_0_data = data[data['Risk'] == 1]\n",
        "\n",
        "# Hitung jumlah total baris dengan Risk=0\n",
        "jumlah_risk_0 = len(risk_0_data)\n",
        "print(f\"Jumlah baris dengan Risk=0: {jumlah_risk_0}\")\n",
        "\n",
        "# Filter data untuk male=1 dan Risk=0\n",
        "diabetes_risk_0_data = data[(data['diabetes'] == 0) & (data['Risk'] == 1)]\n",
        "\n",
        "# Hitung jumlah baris dengan male=1 dan Risk=0\n",
        "jumlah_diabetes_risk_0 = len(diabetes_risk_0_data)\n",
        "print(f\"Jumlah baris dengan diabetes=1 dan Risk=0: {jumlah_diabetes_risk_0}\")\n",
        "\n",
        "# Hitung probabilitas bersyarat P(male=1 | Risk=0)\n",
        "if jumlah_risk_0 > 0:\n",
        "    prob_diabetes_given_risk_0 = jumlah_diabetes_risk_0 / jumlah_risk_0\n",
        "    print(f\"P(diabetes=1 | Risk=0): {prob_diabetes_given_risk_0}\")\n",
        "else:\n",
        "    print(\"Tidak ada data dengan Risk=0 untuk menghitung probabilitas.\")"
      ],
      "metadata": {
        "colab": {
          "base_uri": "https://localhost:8080/"
        },
        "id": "6FFOYFzYMoAV",
        "outputId": "f95e81f3-3885-4b5d-fac5-b41d33584472"
      },
      "execution_count": null,
      "outputs": [
        {
          "output_type": "stream",
          "name": "stdout",
          "text": [
            "Jumlah baris dengan Risk=0: 1064\n",
            "Jumlah baris dengan diabetes=1 dan Risk=0: 513\n",
            "P(diabetes=1 | Risk=0): 0.48214285714285715\n"
          ]
        }
      ]
    },
    {
      "cell_type": "code",
      "source": [
        "import pandas as pd\n",
        "\n",
        "# Membaca file\n",
        "file_path = '/content/drive/MyDrive/Klasifikasi Hipertensi/data_training.csv'\n",
        "data = pd.read_csv(file_path)\n",
        "\n",
        "# Filter data untuk Risk=0\n",
        "risk_0_data = data[data['Risk'] == 1]\n",
        "\n",
        "# Hitung jumlah total baris dengan Risk=0\n",
        "jumlah_risk_0 = len(risk_0_data)\n",
        "print(f\"Jumlah baris dengan Risk=0: {jumlah_risk_0}\")\n",
        "\n",
        "# Filter data untuk male=1 dan Risk=0\n",
        "diabetes_risk_0_data = data[(data['diabetes'] == 1) & (data['Risk'] == 1)]\n",
        "\n",
        "# Hitung jumlah baris dengan male=1 dan Risk=0\n",
        "jumlah_diabetes_risk_0 = len(diabetes_risk_0_data)\n",
        "print(f\"Jumlah baris dengan diabetes=1 dan Risk=1: {jumlah_diabetes_risk_0}\")\n",
        "\n",
        "# Hitung probabilitas bersyarat P(male=1 | Risk=0)\n",
        "if jumlah_risk_0 > 0:\n",
        "    prob_diabetes_given_risk_0 = jumlah_diabetes_risk_0 / jumlah_risk_0\n",
        "    print(f\"P(diabetes=1 | Risk=1): {prob_diabetes_given_risk_0}\")\n",
        "else:\n",
        "    print(\"Tidak ada data dengan Risk=0 untuk menghitung probabilitas.\")"
      ],
      "metadata": {
        "colab": {
          "base_uri": "https://localhost:8080/"
        },
        "id": "EMF7SUoMMtPm",
        "outputId": "f53b0e8c-fdcc-4425-afa2-1308424f03ff"
      },
      "execution_count": null,
      "outputs": [
        {
          "output_type": "stream",
          "name": "stdout",
          "text": [
            "Jumlah baris dengan Risk=0: 1064\n",
            "Jumlah baris dengan diabetes=1 dan Risk=1: 551\n",
            "P(diabetes=1 | Risk=1): 0.5178571428571429\n"
          ]
        }
      ]
    },
    {
      "cell_type": "markdown",
      "source": [
        "**Menyimpan Model**"
      ],
      "metadata": {
        "id": "uo4aB7JRHKUi"
      }
    },
    {
      "cell_type": "code",
      "source": [
        "import matplotlib.pyplot as plt\n",
        "import seaborn as sns\n",
        "\n",
        "import pandas as pd\n",
        "import pickle\n",
        "\n",
        "def simpan_model_ke_drive(df):\n",
        "    df_copy = df.copy()\n",
        "\n",
        "    # Menyimpan model ke Google Drive\n",
        "    with open('/content/drive/MyDrive/Klasifikasi Hipertensi/model.pkl', 'wb') as file:\n",
        "        pickle.dump(model, file)\n",
        "\n",
        "    print(\"Model telah disimpan ke Google Drive.\")\n",
        "\n",
        "# Memanggil fungsi untuk menyimpan model\n",
        "simpan_model_ke_drive(df)\n"
      ],
      "metadata": {
        "colab": {
          "base_uri": "https://localhost:8080/"
        },
        "id": "EjnF5LShFCWB",
        "outputId": "b43dd944-c144-4c32-c505-f12f13beef8e"
      },
      "execution_count": null,
      "outputs": [
        {
          "output_type": "stream",
          "name": "stdout",
          "text": [
            "Dataframe tidak mengandung nilai null.\n",
            "Model telah disimpan ke Google Drive.\n"
          ]
        }
      ]
    },
    {
      "cell_type": "code",
      "source": [
        "import pickle\n",
        "\n",
        "with open('/content/drive/MyDrive/Klasifikasi Hipertensi/model.pkl', 'wb') as f:\n",
        "    pickle.dump(model, f)\n"
      ],
      "metadata": {
        "id": "opBpY-R2FIW9"
      },
      "execution_count": null,
      "outputs": []
    },
    {
      "cell_type": "code",
      "source": [
        "print(type(model))"
      ],
      "metadata": {
        "colab": {
          "base_uri": "https://localhost:8080/"
        },
        "id": "sCEF5uXnFriv",
        "outputId": "cc23845e-8ba5-42f8-9773-c9abe5471ccb"
      },
      "execution_count": null,
      "outputs": [
        {
          "output_type": "stream",
          "name": "stdout",
          "text": [
            "<class 'sklearn.naive_bayes.GaussianNB'>\n"
          ]
        }
      ]
    },
    {
      "cell_type": "markdown",
      "source": [
        "**Rumus mencari distribusi Gaussian**"
      ],
      "metadata": {
        "id": "pFkgz2HCPPAk"
      }
    },
    {
      "cell_type": "code",
      "source": [
        "from scipy.stats import norm\n",
        "\n",
        "# Diketahui\n",
        "mean = 47.685230         # Misalnya rata-rata\n",
        "std_dev = 8.170287    # Misalnya standar deviasi\n",
        "x = 46          # Nilai yang ingin dihitung PDF-nya\n",
        "\n",
        "# Menghitung nilai PDF distribusi Gaussian\n",
        "pdf_value = norm.pdf(x, mean, std_dev)\n",
        "print(\"Nilai PDF Gaussian pada x =\", x, \"adalah\", pdf_value)\n"
      ],
      "metadata": {
        "id": "dfBSSUlPPOJQ"
      },
      "execution_count": null,
      "outputs": []
    }
  ]
}